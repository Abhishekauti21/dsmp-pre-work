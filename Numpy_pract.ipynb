{
  "nbformat": 4,
  "nbformat_minor": 0,
  "metadata": {
    "colab": {
      "name": "Numpy pract.ipynb",
      "provenance": [],
      "authorship_tag": "ABX9TyNdXw52rbmLRakOhNXUODCg",
      "include_colab_link": true
    },
    "kernelspec": {
      "name": "python3",
      "display_name": "Python 3"
    }
  },
  "cells": [
    {
      "cell_type": "markdown",
      "metadata": {
        "id": "view-in-github",
        "colab_type": "text"
      },
      "source": [
        "<a href=\"https://colab.research.google.com/github/Abhishekauti21/dsmp-pre-work/blob/master/Numpy_pract.ipynb\" target=\"_parent\"><img src=\"https://colab.research.google.com/assets/colab-badge.svg\" alt=\"Open In Colab\"/></a>"
      ]
    },
    {
      "cell_type": "code",
      "metadata": {
        "id": "awVdluP-MYWu",
        "colab_type": "code",
        "colab": {}
      },
      "source": [
        "#find a non singular matrix"
      ],
      "execution_count": 0,
      "outputs": []
    },
    {
      "cell_type": "code",
      "metadata": {
        "id": "DIj8WPLLNwtO",
        "colab_type": "code",
        "colab": {
          "base_uri": "https://localhost:8080/",
          "height": 70
        },
        "outputId": "d88daed5-58a7-4397-9678-f46d943eb0d5"
      },
      "source": [
        "import numpy as np\n",
        "# initialize array B and Identity matrix\n",
        "B = np.array([[2,0,-1], [0,2,-1], [-1,0,1]])\n",
        "I = np.identity(3)\n",
        "\n",
        "# calculate result\n",
        "A = 3*I - B\n",
        "print(A)"
      ],
      "execution_count": 1,
      "outputs": [
        {
          "output_type": "stream",
          "text": [
            "[[1. 0. 1.]\n",
            " [0. 1. 1.]\n",
            " [1. 0. 2.]]\n"
          ],
          "name": "stdout"
        }
      ]
    },
    {
      "cell_type": "code",
      "metadata": {
        "id": "mEqdzsSON8Sr",
        "colab_type": "code",
        "colab": {}
      },
      "source": [
        "#Solving System of Equations with NumPy"
      ],
      "execution_count": 0,
      "outputs": []
    },
    {
      "cell_type": "code",
      "metadata": {
        "id": "DhH8fiyeOFx_",
        "colab_type": "code",
        "colab": {
          "base_uri": "https://localhost:8080/",
          "height": 34
        },
        "outputId": "8dec8bb9-ade9-4149-ff8a-bf8e07d3ba3d"
      },
      "source": [
        "import numpy as np\n",
        "# initialize matrix A and b\n",
        "A = np.array([[2,1,2], [3,0,1], [1,1,-1]])\n",
        "b=np.array([-3,5,2])\n",
        "# Solve for x\n",
        "x=np.linalg.solve(A,b)\n",
        "\n",
        "# Check solution\n",
        "check=np.allclose(np.dot(A,x),b)\n",
        "print(check)"
      ],
      "execution_count": 2,
      "outputs": [
        {
          "output_type": "stream",
          "text": [
            "True\n"
          ],
          "name": "stdout"
        }
      ]
    },
    {
      "cell_type": "code",
      "metadata": {
        "id": "u3GB70-oOMMz",
        "colab_type": "code",
        "colab": {
          "base_uri": "https://localhost:8080/",
          "height": 34
        },
        "outputId": "2bf29f97-18cc-463c-f45e-fb908f15f9d3"
      },
      "source": [
        "a = np.array([[0, 1, 2], [3, 4, 5]])\n",
        "b = a.sum(axis=1)\n",
        "print (b)\n"
      ],
      "execution_count": 3,
      "outputs": [
        {
          "output_type": "stream",
          "text": [
            "[ 3 12]\n"
          ],
          "name": "stdout"
        }
      ]
    },
    {
      "cell_type": "code",
      "metadata": {
        "id": "It3mQkAgO94u",
        "colab_type": "code",
        "colab": {
          "base_uri": "https://localhost:8080/",
          "height": 34
        },
        "outputId": "18dfa5b1-8ecd-479b-c8ea-b4e539fcf945"
      },
      "source": [
        "import numpy as np\n",
        "\n",
        "a = np.array([1,2,3,5,8])\n",
        "b = np.array([0,3,4,2,1])\n",
        "c = a + b\n",
        "c = c*a\n",
        "\n",
        "print (c[2])\n"
      ],
      "execution_count": 4,
      "outputs": [
        {
          "output_type": "stream",
          "text": [
            "21\n"
          ],
          "name": "stdout"
        }
      ]
    },
    {
      "cell_type": "code",
      "metadata": {
        "id": "XqHRM-oiPFYc",
        "colab_type": "code",
        "colab": {
          "base_uri": "https://localhost:8080/",
          "height": 220
        },
        "outputId": "94169955-54a7-48e6-a645-790e36b673e5"
      },
      "source": [
        "import numpy as np\n",
        "\n",
        "a = np.zeros(6)\n",
        "b = np.arange(0,10,2)\n",
        "c = a + b\n",
        "print (c[4])\n"
      ],
      "execution_count": 6,
      "outputs": [
        {
          "output_type": "error",
          "ename": "ValueError",
          "evalue": "ignored",
          "traceback": [
            "\u001b[0;31m---------------------------------------------------------------------------\u001b[0m",
            "\u001b[0;31mValueError\u001b[0m                                Traceback (most recent call last)",
            "\u001b[0;32m<ipython-input-6-27128e138648>\u001b[0m in \u001b[0;36m<module>\u001b[0;34m()\u001b[0m\n\u001b[1;32m      3\u001b[0m \u001b[0ma\u001b[0m \u001b[0;34m=\u001b[0m \u001b[0mnp\u001b[0m\u001b[0;34m.\u001b[0m\u001b[0mzeros\u001b[0m\u001b[0;34m(\u001b[0m\u001b[0;36m6\u001b[0m\u001b[0;34m)\u001b[0m\u001b[0;34m\u001b[0m\u001b[0;34m\u001b[0m\u001b[0m\n\u001b[1;32m      4\u001b[0m \u001b[0mb\u001b[0m \u001b[0;34m=\u001b[0m \u001b[0mnp\u001b[0m\u001b[0;34m.\u001b[0m\u001b[0marange\u001b[0m\u001b[0;34m(\u001b[0m\u001b[0;36m0\u001b[0m\u001b[0;34m,\u001b[0m\u001b[0;36m10\u001b[0m\u001b[0;34m,\u001b[0m\u001b[0;36m2\u001b[0m\u001b[0;34m)\u001b[0m\u001b[0;34m\u001b[0m\u001b[0;34m\u001b[0m\u001b[0m\n\u001b[0;32m----> 5\u001b[0;31m \u001b[0mc\u001b[0m \u001b[0;34m=\u001b[0m \u001b[0ma\u001b[0m \u001b[0;34m+\u001b[0m \u001b[0mb\u001b[0m\u001b[0;34m\u001b[0m\u001b[0;34m\u001b[0m\u001b[0m\n\u001b[0m\u001b[1;32m      6\u001b[0m \u001b[0mprint\u001b[0m \u001b[0;34m(\u001b[0m\u001b[0mc\u001b[0m\u001b[0;34m[\u001b[0m\u001b[0;36m4\u001b[0m\u001b[0;34m]\u001b[0m\u001b[0;34m)\u001b[0m\u001b[0;34m\u001b[0m\u001b[0;34m\u001b[0m\u001b[0m\n",
            "\u001b[0;31mValueError\u001b[0m: operands could not be broadcast together with shapes (6,) (5,) "
          ]
        }
      ]
    },
    {
      "cell_type": "code",
      "metadata": {
        "id": "pPIKz_UgPMwz",
        "colab_type": "code",
        "colab": {
          "base_uri": "https://localhost:8080/",
          "height": 34
        },
        "outputId": "2693aa3e-2940-41c5-bebd-8b9a66f151d5"
      },
      "source": [
        "a = np.array([[0, 1, 0], [1, 0, 1]])\n",
        "a += 3\n",
        "b = a + 3\n",
        "print (a[1,2] + b[1,2])"
      ],
      "execution_count": 7,
      "outputs": [
        {
          "output_type": "stream",
          "text": [
            "11\n"
          ],
          "name": "stdout"
        }
      ]
    },
    {
      "cell_type": "code",
      "metadata": {
        "id": "_V5sJfyxPa6u",
        "colab_type": "code",
        "colab": {
          "base_uri": "https://localhost:8080/",
          "height": 34
        },
        "outputId": "a3282872-cd10-4b38-e8a4-bc6d5b0c4f98"
      },
      "source": [
        "import numpy as np\n",
        "\n",
        "a = np.array([[0, 1, 2], [3, 4, 5]])\n",
        "b = a.sum(axis=1)\n",
        "print (b)\n"
      ],
      "execution_count": 8,
      "outputs": [
        {
          "output_type": "stream",
          "text": [
            "[ 3 12]\n"
          ],
          "name": "stdout"
        }
      ]
    },
    {
      "cell_type": "code",
      "metadata": {
        "id": "6esIfJy7Pge7",
        "colab_type": "code",
        "colab": {
          "base_uri": "https://localhost:8080/",
          "height": 34
        },
        "outputId": "9007b3ee-5a67-4e81-d2a2-5f08ca35e70c"
      },
      "source": [
        "import numpy as np\n",
        "\n",
        "a = np.array([[1,2,3],[0,1,4]])\n",
        "b = np.zeros((2,3), dtype=np.int16)\n",
        "c = np.ones((2,3), dtype=np.int16)\n",
        "d = a + b + c\n",
        "print(d[1,2])\n"
      ],
      "execution_count": 9,
      "outputs": [
        {
          "output_type": "stream",
          "text": [
            "5\n"
          ],
          "name": "stdout"
        }
      ]
    },
    {
      "cell_type": "code",
      "metadata": {
        "id": "Iz5a7nnZPkOy",
        "colab_type": "code",
        "colab": {
          "base_uri": "https://localhost:8080/",
          "height": 34
        },
        "outputId": "f3edd6c6-be1b-4bc5-8803-f1ef610a31fc"
      },
      "source": [
        "import numpy as np\n",
        "\n",
        "a = np.array([1,2,3,4,5])\n",
        "b = np.arange(0,10,2)\n",
        "c = a + b\n",
        "print (c[4])\n"
      ],
      "execution_count": 10,
      "outputs": [
        {
          "output_type": "stream",
          "text": [
            "13\n"
          ],
          "name": "stdout"
        }
      ]
    },
    {
      "cell_type": "code",
      "metadata": {
        "id": "t3bz7ErLREX-",
        "colab_type": "code",
        "colab": {
          "base_uri": "https://localhost:8080/",
          "height": 52
        },
        "outputId": "a021db65-6fb6-44be-f1b0-10e9ad3c163b"
      },
      "source": [
        "import numpy as np\n",
        "# Code starts here\n",
        "\n",
        "# initialize NumPy array\n",
        "array=np.arange(1, 11)\n",
        "\n",
        "# check dimensions\n",
        "dim=array.ndim\n",
        "print(dim)\n",
        "# reshaped array\n",
        "reshaped=array.reshape(5,2)\n",
        "\n",
        "# check shape\n",
        "new_dim=reshaped.ndim\n",
        "print(new_dim)\n",
        "# Code ends here"
      ],
      "execution_count": 13,
      "outputs": [
        {
          "output_type": "stream",
          "text": [
            "1\n",
            "2\n"
          ],
          "name": "stdout"
        }
      ]
    },
    {
      "cell_type": "code",
      "metadata": {
        "id": "ZdeuU-TYTLX5",
        "colab_type": "code",
        "colab": {
          "base_uri": "https://localhost:8080/",
          "height": 87
        },
        "outputId": "7a20fe61-a3be-4790-b53d-c1e642aab8e4"
      },
      "source": [
        "import numpy as np\n",
        "array=np.eye(4,dtype=\"float32\")\n",
        "print(array)"
      ],
      "execution_count": 14,
      "outputs": [
        {
          "output_type": "stream",
          "text": [
            "[[1. 0. 0. 0.]\n",
            " [0. 1. 0. 0.]\n",
            " [0. 0. 1. 0.]\n",
            " [0. 0. 0. 1.]]\n"
          ],
          "name": "stdout"
        }
      ]
    },
    {
      "cell_type": "code",
      "metadata": {
        "id": "Af3gjD60SxB-",
        "colab_type": "code",
        "colab": {
          "base_uri": "https://localhost:8080/",
          "height": 34
        },
        "outputId": "569aab55-3ede-484f-fa60-f0c67a3a53a2"
      },
      "source": [
        "import numpy as np\n",
        "\n",
        "# Code starts here\n",
        "\n",
        "# marks array\n",
        "marks = np.array([20, 30, 40])\n",
        "# ID array\n",
        "ids = np.linspace(0,4,3)\n",
        "\n",
        "# display marks and id array\n",
        "print(marks,ids)\n",
        "\n",
        "# Code ends here"
      ],
      "execution_count": 15,
      "outputs": [
        {
          "output_type": "stream",
          "text": [
            "[20 30 40] [0. 2. 4.]\n"
          ],
          "name": "stdout"
        }
      ]
    },
    {
      "cell_type": "code",
      "metadata": {
        "id": "32-uWSc4TgiX",
        "colab_type": "code",
        "colab": {
          "base_uri": "https://localhost:8080/",
          "height": 52
        },
        "outputId": "a067c5ad-045f-40b7-9e18-c3e67283eeff"
      },
      "source": [
        "# Code starts here\n",
        "import numpy as np\n",
        "# initialize array\n",
        "array = np.array([3, 4.5, 3+5j, 0])\n",
        "\n",
        "# boolean filter\n",
        "real = np.isreal(array)\n",
        "real_array = array[real]\n",
        "print(real_array)\n",
        "\n",
        "\n",
        "# boolean filter\n",
        "imag = np.iscomplex(array)\n",
        "imag_array = array[imag]\n",
        "print(imag_array)\n",
        "# Code ends here"
      ],
      "execution_count": 16,
      "outputs": [
        {
          "output_type": "stream",
          "text": [
            "[3. +0.j 4.5+0.j 0. +0.j]\n",
            "[3.+5.j]\n"
          ],
          "name": "stdout"
        }
      ]
    },
    {
      "cell_type": "code",
      "metadata": {
        "id": "00QDC5YoTpX5",
        "colab_type": "code",
        "colab": {
          "base_uri": "https://localhost:8080/",
          "height": 122
        },
        "outputId": "bd960024-3d23-48b8-f17b-c01febe800a5"
      },
      "source": [
        "import numpy as np\n",
        "# initialize array for prices\n",
        "prices=np.array([[40, 35, 20], [21, 48, 70]])\n",
        "\n",
        "# Code starts here\n",
        "\n",
        "# flatten the array\n",
        "prices=prices.flatten()\n",
        "\n",
        "# minimum price\n",
        "buying_price=np.min(prices)\n",
        "\n",
        "# index of buying price\n",
        "index = list(prices).index(buying_price)\n",
        "\n",
        "# create subset\n",
        "new_prices = prices[index:]\n",
        "\n",
        "# selling price\n",
        "selling_price = np.max(new_prices)\n",
        "\n",
        "# profit\n",
        "profit = selling_price - buying_price\n",
        "# display\n",
        "print(prices)\n",
        "print(buying_price)\n",
        "print(index)\n",
        "print(new_prices)\n",
        "print(selling_price)\n",
        "print(profit)\n",
        "# Code ends here"
      ],
      "execution_count": 17,
      "outputs": [
        {
          "output_type": "stream",
          "text": [
            "[40 35 20 21 48 70]\n",
            "20\n",
            "2\n",
            "[20 21 48 70]\n",
            "70\n",
            "50\n"
          ],
          "name": "stdout"
        }
      ]
    },
    {
      "cell_type": "code",
      "metadata": {
        "id": "SnZZP-7aTvoe",
        "colab_type": "code",
        "colab": {
          "base_uri": "https://localhost:8080/",
          "height": 105
        },
        "outputId": "5dca3a75-d3f9-4750-c2d1-4563f37bb03b"
      },
      "source": [
        "import numpy as np\n",
        "np.random.seed(21)\n",
        "\n",
        "# Code starts here\n",
        "\n",
        "# create random 5x5 array\n",
        "z=np.random.random((5,5))\n",
        "# minimum and maximum values\n",
        "zmax=z.max()\n",
        "zmin=z.min()\n",
        "# normalize\n",
        "z_norm=np.divide(z-zmin,zmax-zmin)\n",
        "# display\n",
        "print(z_norm)"
      ],
      "execution_count": 18,
      "outputs": [
        {
          "output_type": "stream",
          "text": [
            "[[0.02856942 0.28190767 0.73703555 0.         0.19423813]\n",
            " [0.03072817 0.29577917 0.67690496 0.3019365  0.59225784]\n",
            " [0.05053881 0.89136471 0.1176393  0.16494209 0.49987233]\n",
            " [0.88746023 0.77705951 1.         0.77743756 0.38217481]\n",
            " [0.40796162 0.72901978 0.26247412 0.87734633 0.93959001]]\n"
          ],
          "name": "stdout"
        }
      ]
    },
    {
      "cell_type": "code",
      "metadata": {
        "id": "OXHULvXWT1hw",
        "colab_type": "code",
        "colab": {
          "base_uri": "https://localhost:8080/",
          "height": 34
        },
        "outputId": "d71a0d15-905b-4a2f-f8d1-a9338b706879"
      },
      "source": [
        "# import packages\n",
        "import numpy as np\n",
        "\n",
        "# Code starts here\n",
        "\n",
        "# co-efficients of x\n",
        "coeff=np.array([1,-4,4])\n",
        "\n",
        "# roots of equation\n",
        "roots=np.roots(coeff)\n",
        "\n",
        "# display roots\n",
        "print(roots)\n",
        "\n",
        "# Code ends here"
      ],
      "execution_count": 19,
      "outputs": [
        {
          "output_type": "stream",
          "text": [
            "[2. 2.]\n"
          ],
          "name": "stdout"
        }
      ]
    },
    {
      "cell_type": "code",
      "metadata": {
        "id": "_uMikqZTUBZW",
        "colab_type": "code",
        "colab": {
          "base_uri": "https://localhost:8080/",
          "height": 34
        },
        "outputId": "01ff3404-1db3-4a6c-ea56-4d37a9df2505"
      },
      "source": [
        "# Code starts here\n",
        "import numpy as np\n",
        "# centigrade temperatures\n",
        "centigrade_temps = np.array([0, 10, 25, 32, 80, 99.99])\n",
        "\n",
        "# function for conversion\n",
        "def convert(celsius):\n",
        "    return 1.8*celsius + 32\n",
        "fahrenheit_temps = convert(centigrade_temps)\n",
        "# display fahrehheit temperatures\n",
        "print(fahrenheit_temps)\n",
        "\n",
        "# Code ends here"
      ],
      "execution_count": 20,
      "outputs": [
        {
          "output_type": "stream",
          "text": [
            "[ 32.     50.     77.     89.6   176.    211.982]\n"
          ],
          "name": "stdout"
        }
      ]
    },
    {
      "cell_type": "code",
      "metadata": {
        "id": "dwJqPSQRUHJZ",
        "colab_type": "code",
        "colab": {
          "base_uri": "https://localhost:8080/",
          "height": 34
        },
        "outputId": "0c74172f-3d2a-44e9-cde5-1bd18126b98b"
      },
      "source": [
        "# Code starts here\n",
        "import numpy as np\n",
        "# initialize matrix A and b\n",
        "A = np.array([[2,1,2], [3,0,1], [1,1,-1]])\n",
        "b=np.array([-3,5,2])\n",
        "# Solve for x\n",
        "x=np.linalg.solve(A,b)\n",
        "\n",
        "# Check solution\n",
        "check=np.allclose(np.dot(A,x),b)\n",
        "print(check)\n",
        "# Code ends here"
      ],
      "execution_count": 21,
      "outputs": [
        {
          "output_type": "stream",
          "text": [
            "True\n"
          ],
          "name": "stdout"
        }
      ]
    },
    {
      "cell_type": "code",
      "metadata": {
        "id": "zKyEtRoyULxP",
        "colab_type": "code",
        "colab": {
          "base_uri": "https://localhost:8080/",
          "height": 70
        },
        "outputId": "ef44018f-7f45-435a-95fd-ebdee73b483f"
      },
      "source": [
        "import numpy as np\n",
        "# initialize array B and Identity matrix\n",
        "B = np.array([[2,0,-1], [0,2,-1], [-1,0,1]])\n",
        "I = np.identity(3)\n",
        "\n",
        "# calculate result\n",
        "A = 3*I - B\n",
        "print(A)\n",
        "\n",
        "# Code ends here"
      ],
      "execution_count": 22,
      "outputs": [
        {
          "output_type": "stream",
          "text": [
            "[[1. 0. 1.]\n",
            " [0. 1. 1.]\n",
            " [1. 0. 2.]]\n"
          ],
          "name": "stdout"
        }
      ]
    },
    {
      "cell_type": "code",
      "metadata": {
        "id": "VkO7q2E0Uay7",
        "colab_type": "code",
        "colab": {}
      },
      "source": [
        ""
      ],
      "execution_count": 0,
      "outputs": []
    }
  ]
}