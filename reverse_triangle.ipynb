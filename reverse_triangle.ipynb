{
  "nbformat": 4,
  "nbformat_minor": 0,
  "metadata": {
    "colab": {
      "name": "reverse triangle.ipynb",
      "provenance": [],
      "authorship_tag": "ABX9TyPwZg6oG7UgH11oH8YQAbUu",
      "include_colab_link": true
    },
    "kernelspec": {
      "name": "python3",
      "display_name": "Python 3"
    }
  },
  "cells": [
    {
      "cell_type": "markdown",
      "metadata": {
        "id": "view-in-github",
        "colab_type": "text"
      },
      "source": [
        "<a href=\"https://colab.research.google.com/github/Abhishekauti21/dsmp-pre-work/blob/master/reverse_triangle.ipynb\" target=\"_parent\"><img src=\"https://colab.research.google.com/assets/colab-badge.svg\" alt=\"Open In Colab\"/></a>"
      ]
    },
    {
      "cell_type": "code",
      "metadata": {
        "id": "CRkai8TQS1Cz",
        "colab_type": "code",
        "colab": {}
      },
      "source": [
        "rows=6"
      ],
      "execution_count": 0,
      "outputs": []
    },
    {
      "cell_type": "code",
      "metadata": {
        "id": "gmIKCCD7TNzC",
        "colab_type": "code",
        "colab": {}
      },
      "source": [
        "k=2 * rows-2"
      ],
      "execution_count": 0,
      "outputs": []
    },
    {
      "cell_type": "code",
      "metadata": {
        "id": "2ue2LHoATT9h",
        "colab_type": "code",
        "outputId": "99a0fb43-bee8-4a25-f3f0-f2e11827d2a9",
        "colab": {
          "base_uri": "https://localhost:8080/",
          "height": 140
        }
      },
      "source": [
        "for i in range(rows,-1,-1):\n",
        "  for j in range(k,0,-1):\n",
        "    print(end=\" \")\n",
        "  k=k + 1\n",
        "  for j in range(0,i + 1):\n",
        "    print(\"*\",end=\" \")\n",
        "  print(\" \")  "
      ],
      "execution_count": 8,
      "outputs": [
        {
          "output_type": "stream",
          "text": [
            "          * * * * * * *  \n",
            "           * * * * * *  \n",
            "            * * * * *  \n",
            "             * * * *  \n",
            "              * * *  \n",
            "               * *  \n",
            "                *  \n"
          ],
          "name": "stdout"
        }
      ]
    },
    {
      "cell_type": "code",
      "metadata": {
        "id": "OIYo_f4-UEEn",
        "colab_type": "code",
        "colab": {}
      },
      "source": [
        ""
      ],
      "execution_count": 0,
      "outputs": []
    }
  ]
}