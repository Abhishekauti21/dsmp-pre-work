{
  "nbformat": 4,
  "nbformat_minor": 0,
  "metadata": {
    "colab": {
      "name": "javascript object notation py.ipynb",
      "provenance": [],
      "authorship_tag": "ABX9TyMhzD3NoImuXsJ8Q9fUpPMn",
      "include_colab_link": true
    },
    "kernelspec": {
      "name": "python3",
      "display_name": "Python 3"
    }
  },
  "cells": [
    {
      "cell_type": "markdown",
      "metadata": {
        "id": "view-in-github",
        "colab_type": "text"
      },
      "source": [
        "<a href=\"https://colab.research.google.com/github/Abhishekauti21/dsmp-pre-work/blob/master/javascript_object_notation_py.ipynb\" target=\"_parent\"><img src=\"https://colab.research.google.com/assets/colab-badge.svg\" alt=\"Open In Colab\"/></a>"
      ]
    },
    {
      "cell_type": "code",
      "metadata": {
        "id": "imd6kc6ynVPq",
        "colab_type": "code",
        "colab": {}
      },
      "source": [
        "import json"
      ],
      "execution_count": 0,
      "outputs": []
    },
    {
      "cell_type": "code",
      "metadata": {
        "id": "dZa9kbb4ydFK",
        "colab_type": "code",
        "colab": {}
      },
      "source": [
        "x='{\"name\":\"python\",\"age\":30,\"city\":\"hub\"}'"
      ],
      "execution_count": 0,
      "outputs": []
    },
    {
      "cell_type": "code",
      "metadata": {
        "id": "WlImYQhayzOn",
        "colab_type": "code",
        "colab": {}
      },
      "source": [
        "y=json.loads(x)"
      ],
      "execution_count": 0,
      "outputs": []
    },
    {
      "cell_type": "code",
      "metadata": {
        "id": "-opCfCJoy5CL",
        "colab_type": "code",
        "colab": {
          "base_uri": "https://localhost:8080/",
          "height": 34
        },
        "outputId": "8ae7233a-aa32-477e-fed0-540a325ac22d"
      },
      "source": [
        "print(y[\"age\"])"
      ],
      "execution_count": 4,
      "outputs": [
        {
          "output_type": "stream",
          "text": [
            "30\n"
          ],
          "name": "stdout"
        }
      ]
    },
    {
      "cell_type": "code",
      "metadata": {
        "id": "x0N1svVCy-30",
        "colab_type": "code",
        "colab": {}
      },
      "source": [
        "#above code is to convert json to python"
      ],
      "execution_count": 0,
      "outputs": []
    },
    {
      "cell_type": "code",
      "metadata": {
        "id": "Rciev4eBzJ4w",
        "colab_type": "code",
        "colab": {}
      },
      "source": [
        "#convert from python to json"
      ],
      "execution_count": 0,
      "outputs": []
    },
    {
      "cell_type": "code",
      "metadata": {
        "id": "CHZsoWYzzPuS",
        "colab_type": "code",
        "colab": {}
      },
      "source": [
        "a={\n",
        "   \"name\":\"python.hub\",\n",
        "   \"age\":30,\n",
        "   \"city\":\"Instagram\"\n",
        "}"
      ],
      "execution_count": 0,
      "outputs": []
    },
    {
      "cell_type": "code",
      "metadata": {
        "id": "Nqtpgf6m0fhA",
        "colab_type": "code",
        "colab": {}
      },
      "source": [
        "b=json.dumps(a)"
      ],
      "execution_count": 0,
      "outputs": []
    },
    {
      "cell_type": "code",
      "metadata": {
        "id": "TTxFTguf0kTD",
        "colab_type": "code",
        "colab": {
          "base_uri": "https://localhost:8080/",
          "height": 34
        },
        "outputId": "24d21bee-2150-4306-c3c3-159385fd66e0"
      },
      "source": [
        "print(b)"
      ],
      "execution_count": 9,
      "outputs": [
        {
          "output_type": "stream",
          "text": [
            "{\"name\": \"python.hub\", \"age\": 30, \"city\": \"Instagram\"}\n"
          ],
          "name": "stdout"
        }
      ]
    },
    {
      "cell_type": "code",
      "metadata": {
        "id": "ZljsuIxq0mTk",
        "colab_type": "code",
        "colab": {}
      },
      "source": [
        ""
      ],
      "execution_count": 0,
      "outputs": []
    }
  ]
}