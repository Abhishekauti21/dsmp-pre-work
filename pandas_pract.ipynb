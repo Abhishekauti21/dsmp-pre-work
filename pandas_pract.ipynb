{
  "nbformat": 4,
  "nbformat_minor": 0,
  "metadata": {
    "colab": {
      "name": "pandas pract.ipynb",
      "provenance": [],
      "authorship_tag": "ABX9TyMIEL56YlhCBDakS4+DJWCY",
      "include_colab_link": true
    },
    "kernelspec": {
      "name": "python3",
      "display_name": "Python 3"
    }
  },
  "cells": [
    {
      "cell_type": "markdown",
      "metadata": {
        "id": "view-in-github",
        "colab_type": "text"
      },
      "source": [
        "<a href=\"https://colab.research.google.com/github/Abhishekauti21/dsmp-pre-work/blob/master/pandas_pract.ipynb\" target=\"_parent\"><img src=\"https://colab.research.google.com/assets/colab-badge.svg\" alt=\"Open In Colab\"/></a>"
      ]
    },
    {
      "cell_type": "code",
      "metadata": {
        "id": "L8A5ClObon9e",
        "colab_type": "code",
        "colab": {}
      },
      "source": [
        "import pandas as pd\n"
      ],
      "execution_count": 0,
      "outputs": []
    },
    {
      "cell_type": "code",
      "metadata": {
        "id": "Ky1ADKN0o8VV",
        "colab_type": "code",
        "colab": {
          "base_uri": "https://localhost:8080/",
          "height": 34
        },
        "outputId": "e2e076b1-3eae-4deb-ecd6-a9e517188e4f"
      },
      "source": [
        "ls"
      ],
      "execution_count": 2,
      "outputs": [
        {
          "output_type": "stream",
          "text": [
            "file.csv  \u001b[0m\u001b[01;34msample_data\u001b[0m/\n"
          ],
          "name": "stdout"
        }
      ]
    },
    {
      "cell_type": "code",
      "metadata": {
        "id": "gsDrWVmxo-gv",
        "colab_type": "code",
        "colab": {}
      },
      "source": [
        "df = pd.read_csv('file.csv')"
      ],
      "execution_count": 0,
      "outputs": []
    },
    {
      "cell_type": "code",
      "metadata": {
        "id": "fG6hf0mapHDf",
        "colab_type": "code",
        "colab": {
          "base_uri": "https://localhost:8080/",
          "height": 402
        },
        "outputId": "117a460c-84c0-4475-fbe1-b8829d1247ed"
      },
      "source": [
        "df"
      ],
      "execution_count": 13,
      "outputs": [
        {
          "output_type": "execute_result",
          "data": {
            "text/html": [
              "<div>\n",
              "<style scoped>\n",
              "    .dataframe tbody tr th:only-of-type {\n",
              "        vertical-align: middle;\n",
              "    }\n",
              "\n",
              "    .dataframe tbody tr th {\n",
              "        vertical-align: top;\n",
              "    }\n",
              "\n",
              "    .dataframe thead th {\n",
              "        text-align: right;\n",
              "    }\n",
              "</style>\n",
              "<table border=\"1\" class=\"dataframe\">\n",
              "  <thead>\n",
              "    <tr style=\"text-align: right;\">\n",
              "      <th></th>\n",
              "      <th>#</th>\n",
              "      <th>Name</th>\n",
              "      <th>Type 1</th>\n",
              "      <th>Type 2</th>\n",
              "      <th>HP</th>\n",
              "      <th>Attack</th>\n",
              "      <th>Defense</th>\n",
              "      <th>Sp. Atk</th>\n",
              "      <th>Sp. Def</th>\n",
              "      <th>Speed</th>\n",
              "      <th>Generation</th>\n",
              "      <th>Legendary</th>\n",
              "    </tr>\n",
              "  </thead>\n",
              "  <tbody>\n",
              "    <tr>\n",
              "      <th>0</th>\n",
              "      <td>1</td>\n",
              "      <td>Bulbasaur</td>\n",
              "      <td>Grass</td>\n",
              "      <td>Poison</td>\n",
              "      <td>45</td>\n",
              "      <td>49</td>\n",
              "      <td>49</td>\n",
              "      <td>65</td>\n",
              "      <td>65</td>\n",
              "      <td>45</td>\n",
              "      <td>1</td>\n",
              "      <td>False</td>\n",
              "    </tr>\n",
              "    <tr>\n",
              "      <th>1</th>\n",
              "      <td>2</td>\n",
              "      <td>Ivysaur</td>\n",
              "      <td>Grass</td>\n",
              "      <td>Poison</td>\n",
              "      <td>60</td>\n",
              "      <td>62</td>\n",
              "      <td>63</td>\n",
              "      <td>80</td>\n",
              "      <td>80</td>\n",
              "      <td>60</td>\n",
              "      <td>1</td>\n",
              "      <td>False</td>\n",
              "    </tr>\n",
              "    <tr>\n",
              "      <th>2</th>\n",
              "      <td>3</td>\n",
              "      <td>Venusaur</td>\n",
              "      <td>Grass</td>\n",
              "      <td>Poison</td>\n",
              "      <td>80</td>\n",
              "      <td>82</td>\n",
              "      <td>83</td>\n",
              "      <td>100</td>\n",
              "      <td>100</td>\n",
              "      <td>80</td>\n",
              "      <td>1</td>\n",
              "      <td>False</td>\n",
              "    </tr>\n",
              "    <tr>\n",
              "      <th>3</th>\n",
              "      <td>4</td>\n",
              "      <td>Mega Venusaur</td>\n",
              "      <td>Grass</td>\n",
              "      <td>Poison</td>\n",
              "      <td>80</td>\n",
              "      <td>100</td>\n",
              "      <td>123</td>\n",
              "      <td>122</td>\n",
              "      <td>120</td>\n",
              "      <td>80</td>\n",
              "      <td>1</td>\n",
              "      <td>False</td>\n",
              "    </tr>\n",
              "    <tr>\n",
              "      <th>4</th>\n",
              "      <td>5</td>\n",
              "      <td>Charmander</td>\n",
              "      <td>Fire</td>\n",
              "      <td>NaN</td>\n",
              "      <td>39</td>\n",
              "      <td>52</td>\n",
              "      <td>43</td>\n",
              "      <td>60</td>\n",
              "      <td>50</td>\n",
              "      <td>65</td>\n",
              "      <td>1</td>\n",
              "      <td>False</td>\n",
              "    </tr>\n",
              "    <tr>\n",
              "      <th>...</th>\n",
              "      <td>...</td>\n",
              "      <td>...</td>\n",
              "      <td>...</td>\n",
              "      <td>...</td>\n",
              "      <td>...</td>\n",
              "      <td>...</td>\n",
              "      <td>...</td>\n",
              "      <td>...</td>\n",
              "      <td>...</td>\n",
              "      <td>...</td>\n",
              "      <td>...</td>\n",
              "      <td>...</td>\n",
              "    </tr>\n",
              "    <tr>\n",
              "      <th>795</th>\n",
              "      <td>796</td>\n",
              "      <td>Diancie</td>\n",
              "      <td>Rock</td>\n",
              "      <td>Fairy</td>\n",
              "      <td>50</td>\n",
              "      <td>100</td>\n",
              "      <td>150</td>\n",
              "      <td>100</td>\n",
              "      <td>150</td>\n",
              "      <td>50</td>\n",
              "      <td>6</td>\n",
              "      <td>True</td>\n",
              "    </tr>\n",
              "    <tr>\n",
              "      <th>796</th>\n",
              "      <td>797</td>\n",
              "      <td>Mega Diancie</td>\n",
              "      <td>Rock</td>\n",
              "      <td>Fairy</td>\n",
              "      <td>50</td>\n",
              "      <td>160</td>\n",
              "      <td>110</td>\n",
              "      <td>160</td>\n",
              "      <td>110</td>\n",
              "      <td>110</td>\n",
              "      <td>6</td>\n",
              "      <td>True</td>\n",
              "    </tr>\n",
              "    <tr>\n",
              "      <th>797</th>\n",
              "      <td>798</td>\n",
              "      <td>Hoopa Confined</td>\n",
              "      <td>Psychic</td>\n",
              "      <td>Ghost</td>\n",
              "      <td>80</td>\n",
              "      <td>110</td>\n",
              "      <td>60</td>\n",
              "      <td>150</td>\n",
              "      <td>130</td>\n",
              "      <td>70</td>\n",
              "      <td>6</td>\n",
              "      <td>True</td>\n",
              "    </tr>\n",
              "    <tr>\n",
              "      <th>798</th>\n",
              "      <td>799</td>\n",
              "      <td>Hoopa Unbound</td>\n",
              "      <td>Psychic</td>\n",
              "      <td>Dark</td>\n",
              "      <td>80</td>\n",
              "      <td>160</td>\n",
              "      <td>60</td>\n",
              "      <td>170</td>\n",
              "      <td>130</td>\n",
              "      <td>80</td>\n",
              "      <td>6</td>\n",
              "      <td>True</td>\n",
              "    </tr>\n",
              "    <tr>\n",
              "      <th>799</th>\n",
              "      <td>800</td>\n",
              "      <td>Volcanion</td>\n",
              "      <td>Fire</td>\n",
              "      <td>Water</td>\n",
              "      <td>80</td>\n",
              "      <td>110</td>\n",
              "      <td>120</td>\n",
              "      <td>130</td>\n",
              "      <td>90</td>\n",
              "      <td>70</td>\n",
              "      <td>6</td>\n",
              "      <td>True</td>\n",
              "    </tr>\n",
              "  </tbody>\n",
              "</table>\n",
              "<p>800 rows × 12 columns</p>\n",
              "</div>"
            ],
            "text/plain": [
              "       #            Name   Type 1  ... Speed  Generation  Legendary\n",
              "0      1       Bulbasaur    Grass  ...    45           1      False\n",
              "1      2         Ivysaur    Grass  ...    60           1      False\n",
              "2      3        Venusaur    Grass  ...    80           1      False\n",
              "3      4   Mega Venusaur    Grass  ...    80           1      False\n",
              "4      5      Charmander     Fire  ...    65           1      False\n",
              "..   ...             ...      ...  ...   ...         ...        ...\n",
              "795  796         Diancie     Rock  ...    50           6       True\n",
              "796  797    Mega Diancie     Rock  ...   110           6       True\n",
              "797  798  Hoopa Confined  Psychic  ...    70           6       True\n",
              "798  799   Hoopa Unbound  Psychic  ...    80           6       True\n",
              "799  800       Volcanion     Fire  ...    70           6       True\n",
              "\n",
              "[800 rows x 12 columns]"
            ]
          },
          "metadata": {
            "tags": []
          },
          "execution_count": 13
        }
      ]
    },
    {
      "cell_type": "code",
      "metadata": {
        "id": "IlscwXNppRko",
        "colab_type": "code",
        "colab": {
          "base_uri": "https://localhost:8080/",
          "height": 122
        },
        "outputId": "f8523b4b-3a0e-44c1-b009-9e9a1916d6f7"
      },
      "source": [
        "import pandas as pd\n",
        "nums = [800678, 800456]\n",
        "names = ['Richie', 'Mark']\n",
        "series_1 = pd.Series(nums)\n",
        "series_2 = pd.Series(nums, index=names)\n",
        "print(series_1)\n",
        "print(series_2)"
      ],
      "execution_count": 6,
      "outputs": [
        {
          "output_type": "stream",
          "text": [
            "0    800678\n",
            "1    800456\n",
            "dtype: int64\n",
            "Richie    800678\n",
            "Mark      800456\n",
            "dtype: int64\n"
          ],
          "name": "stdout"
        }
      ]
    },
    {
      "cell_type": "code",
      "metadata": {
        "id": "K25td2zAqJu_",
        "colab_type": "code",
        "colab": {
          "base_uri": "https://localhost:8080/",
          "height": 228
        },
        "outputId": "8e102e61-6dbd-4d9a-9173-4a8a73d5d3a6"
      },
      "source": [
        "import pandas as pd\n",
        "a = pd.Series([1,2,3,4], index=[0,1,2,3])\n",
        "b = pd.Series([1,2,3,4], index=[0,1,3,4])\n",
        "c = a + b\n",
        "print(c)\n",
        "c.fillna(0, inplace=True)\n",
        "print(c)"
      ],
      "execution_count": 7,
      "outputs": [
        {
          "output_type": "stream",
          "text": [
            "0    2.0\n",
            "1    4.0\n",
            "2    NaN\n",
            "3    7.0\n",
            "4    NaN\n",
            "dtype: float64\n",
            "0    2.0\n",
            "1    4.0\n",
            "2    0.0\n",
            "3    7.0\n",
            "4    0.0\n",
            "dtype: float64\n"
          ],
          "name": "stdout"
        }
      ]
    },
    {
      "cell_type": "code",
      "metadata": {
        "id": "KBZgeWzJqScW",
        "colab_type": "code",
        "colab": {
          "base_uri": "https://localhost:8080/",
          "height": 70
        },
        "outputId": "2867a048-e5b0-4389-f536-5171613d1b7c"
      },
      "source": [
        "import pandas as pd\n",
        "import numpy as np\n",
        "pincodes = [800678, 800456]\n",
        "numbers = [2567890, 2567657]\n",
        "labels = ['R', 'M']\n",
        "first = pd.DataFrame({'Number':numbers, 'Pincode':pincodes}, index=labels)\n",
        "print(first)"
      ],
      "execution_count": 8,
      "outputs": [
        {
          "output_type": "stream",
          "text": [
            "    Number  Pincode\n",
            "R  2567890   800678\n",
            "M  2567657   800456\n"
          ],
          "name": "stdout"
        }
      ]
    },
    {
      "cell_type": "code",
      "metadata": {
        "id": "z5JCrUPEqZOF",
        "colab_type": "code",
        "colab": {
          "base_uri": "https://localhost:8080/",
          "height": 263
        },
        "outputId": "b089dfd6-3f55-44fc-e34e-e2ce98422a9f"
      },
      "source": [
        "import pandas as pd\n",
        "#filepath = pokemon\n",
        "df = pd.read_csv('file.csv')\n",
        "print(df)"
      ],
      "execution_count": 16,
      "outputs": [
        {
          "output_type": "stream",
          "text": [
            "       #            Name   Type 1  ... Speed  Generation  Legendary\n",
            "0      1       Bulbasaur    Grass  ...    45           1      False\n",
            "1      2         Ivysaur    Grass  ...    60           1      False\n",
            "2      3        Venusaur    Grass  ...    80           1      False\n",
            "3      4   Mega Venusaur    Grass  ...    80           1      False\n",
            "4      5      Charmander     Fire  ...    65           1      False\n",
            "..   ...             ...      ...  ...   ...         ...        ...\n",
            "795  796         Diancie     Rock  ...    50           6       True\n",
            "796  797    Mega Diancie     Rock  ...   110           6       True\n",
            "797  798  Hoopa Confined  Psychic  ...    70           6       True\n",
            "798  799   Hoopa Unbound  Psychic  ...    80           6       True\n",
            "799  800       Volcanion     Fire  ...    70           6       True\n",
            "\n",
            "[800 rows x 12 columns]\n"
          ],
          "name": "stdout"
        }
      ]
    },
    {
      "cell_type": "code",
      "metadata": {
        "id": "WKZMQL4wqfEN",
        "colab_type": "code",
        "colab": {
          "base_uri": "https://localhost:8080/",
          "height": 914
        },
        "outputId": "650080a4-9f90-4fde-e8f6-1a2317739f1b"
      },
      "source": [
        "head=df.head(10)\n",
        "print(head)\n",
        "# describe the dataframe\n",
        "describe=df.describe()\n",
        "print(describe)\n",
        "# shape of the dataframe\n",
        "shape=df.shape\n",
        "print(shape)\n",
        "# check for null values\n",
        "null=df.isnull().sum()\n",
        "print(null)\n",
        "# check for unique values\n",
        "unique=df.nunique()\n",
        "print(unique)"
      ],
      "execution_count": 17,
      "outputs": [
        {
          "output_type": "stream",
          "text": [
            "    #              Name Type 1  Type 2  ...  Sp. Def  Speed  Generation  Legendary\n",
            "0   1         Bulbasaur  Grass  Poison  ...       65     45           1      False\n",
            "1   2           Ivysaur  Grass  Poison  ...       80     60           1      False\n",
            "2   3          Venusaur  Grass  Poison  ...      100     80           1      False\n",
            "3   4     Mega Venusaur  Grass  Poison  ...      120     80           1      False\n",
            "4   5        Charmander   Fire     NaN  ...       50     65           1      False\n",
            "5   6        Charmeleon   Fire     NaN  ...       65     80           1      False\n",
            "6   7         Charizard   Fire  Flying  ...       85    100           1      False\n",
            "7   8  Mega Charizard X   Fire  Dragon  ...       85    100           1      False\n",
            "8   9  Mega Charizard Y   Fire  Flying  ...      115    100           1      False\n",
            "9  10          Squirtle  Water     NaN  ...       64     43           1      False\n",
            "\n",
            "[10 rows x 12 columns]\n",
            "              #          HP      Attack  ...     Sp. Def       Speed  Generation\n",
            "count  800.0000  800.000000  800.000000  ...  800.000000  800.000000   800.00000\n",
            "mean   400.5000   69.258750   79.001250  ...   71.902500   68.277500     3.32375\n",
            "std    231.0844   25.534669   32.457366  ...   27.828916   29.060474     1.66129\n",
            "min      1.0000    1.000000    5.000000  ...   20.000000    5.000000     1.00000\n",
            "25%    200.7500   50.000000   55.000000  ...   50.000000   45.000000     2.00000\n",
            "50%    400.5000   65.000000   75.000000  ...   70.000000   65.000000     3.00000\n",
            "75%    600.2500   80.000000  100.000000  ...   90.000000   90.000000     5.00000\n",
            "max    800.0000  255.000000  190.000000  ...  230.000000  180.000000     6.00000\n",
            "\n",
            "[8 rows x 8 columns]\n",
            "(800, 12)\n",
            "#               0\n",
            "Name            1\n",
            "Type 1          0\n",
            "Type 2        386\n",
            "HP              0\n",
            "Attack          0\n",
            "Defense         0\n",
            "Sp. Atk         0\n",
            "Sp. Def         0\n",
            "Speed           0\n",
            "Generation      0\n",
            "Legendary       0\n",
            "dtype: int64\n",
            "#             800\n",
            "Name          799\n",
            "Type 1         18\n",
            "Type 2         18\n",
            "HP             94\n",
            "Attack        111\n",
            "Defense       103\n",
            "Sp. Atk       105\n",
            "Sp. Def        92\n",
            "Speed         108\n",
            "Generation      6\n",
            "Legendary       2\n",
            "dtype: int64\n"
          ],
          "name": "stdout"
        }
      ]
    },
    {
      "cell_type": "code",
      "metadata": {
        "id": "iKpn75dfsI6y",
        "colab_type": "code",
        "colab": {
          "base_uri": "https://localhost:8080/",
          "height": 228
        },
        "outputId": "47e71527-e56d-4c46-c870-e8af9d0fe88c"
      },
      "source": [
        "import pandas as pd\n",
        "df['Total'] = df['HP'] + df['Attack'] + df['Defense'] + df['Speed'] + df['Sp. Atk'] + df['Sp. Def']\n",
        "print(df['Total'])\n"
      ],
      "execution_count": 18,
      "outputs": [
        {
          "output_type": "stream",
          "text": [
            "0      318\n",
            "1      405\n",
            "2      525\n",
            "3      625\n",
            "4      309\n",
            "      ... \n",
            "795    600\n",
            "796    700\n",
            "797    600\n",
            "798    680\n",
            "799    600\n",
            "Name: Total, Length: 800, dtype: int64\n"
          ],
          "name": "stdout"
        }
      ]
    },
    {
      "cell_type": "code",
      "metadata": {
        "id": "wGOIGD9vsQ2M",
        "colab_type": "code",
        "colab": {
          "base_uri": "https://localhost:8080/",
          "height": 385
        },
        "outputId": "e861735f-e6b6-46df-eb10-03797b1f82da"
      },
      "source": [
        "df.drop('#', inplace=True, axis=1)\n",
        "\n",
        "# Rename columns 'HP', 'Sp. Atk' and 'Sp. Def' as 'Health Points', 'Attack speed points' and 'Defense speed points'\n",
        "df.rename(columns={'HP':'Health Points', 'Sp. Atk': 'Attack speed points', 'Sp. Def': 'Defense speed points'}, inplace=True)\n",
        "\n",
        "# Set index as names\n",
        "df.set_index('Name', inplace=True)\n",
        "\n",
        "# Look at the first 5 observations\n",
        "df.head()\n"
      ],
      "execution_count": 21,
      "outputs": [
        {
          "output_type": "error",
          "ename": "KeyError",
          "evalue": "ignored",
          "traceback": [
            "\u001b[0;31m---------------------------------------------------------------------------\u001b[0m",
            "\u001b[0;31mKeyError\u001b[0m                                  Traceback (most recent call last)",
            "\u001b[0;32m<ipython-input-21-c18bafa4a05e>\u001b[0m in \u001b[0;36m<module>\u001b[0;34m()\u001b[0m\n\u001b[0;32m----> 1\u001b[0;31m \u001b[0mdf\u001b[0m\u001b[0;34m.\u001b[0m\u001b[0mdrop\u001b[0m\u001b[0;34m(\u001b[0m\u001b[0;34m'#'\u001b[0m\u001b[0;34m,\u001b[0m \u001b[0minplace\u001b[0m\u001b[0;34m=\u001b[0m\u001b[0;32mTrue\u001b[0m\u001b[0;34m,\u001b[0m \u001b[0maxis\u001b[0m\u001b[0;34m=\u001b[0m\u001b[0;36m1\u001b[0m\u001b[0;34m)\u001b[0m\u001b[0;34m\u001b[0m\u001b[0;34m\u001b[0m\u001b[0m\n\u001b[0m\u001b[1;32m      2\u001b[0m \u001b[0;34m\u001b[0m\u001b[0m\n\u001b[1;32m      3\u001b[0m \u001b[0;31m# Rename columns 'HP', 'Sp. Atk' and 'Sp. Def' as 'Health Points', 'Attack speed points' and 'Defense speed points'\u001b[0m\u001b[0;34m\u001b[0m\u001b[0;34m\u001b[0m\u001b[0;34m\u001b[0m\u001b[0m\n\u001b[1;32m      4\u001b[0m \u001b[0mdf\u001b[0m\u001b[0;34m.\u001b[0m\u001b[0mrename\u001b[0m\u001b[0;34m(\u001b[0m\u001b[0mcolumns\u001b[0m\u001b[0;34m=\u001b[0m\u001b[0;34m{\u001b[0m\u001b[0;34m'HP'\u001b[0m\u001b[0;34m:\u001b[0m\u001b[0;34m'Health Points'\u001b[0m\u001b[0;34m,\u001b[0m \u001b[0;34m'Sp. Atk'\u001b[0m\u001b[0;34m:\u001b[0m \u001b[0;34m'Attack speed points'\u001b[0m\u001b[0;34m,\u001b[0m \u001b[0;34m'Sp. Def'\u001b[0m\u001b[0;34m:\u001b[0m \u001b[0;34m'Defense speed points'\u001b[0m\u001b[0;34m}\u001b[0m\u001b[0;34m,\u001b[0m \u001b[0minplace\u001b[0m\u001b[0;34m=\u001b[0m\u001b[0;32mTrue\u001b[0m\u001b[0;34m)\u001b[0m\u001b[0;34m\u001b[0m\u001b[0;34m\u001b[0m\u001b[0m\n\u001b[1;32m      5\u001b[0m \u001b[0;34m\u001b[0m\u001b[0m\n",
            "\u001b[0;32m/usr/local/lib/python3.6/dist-packages/pandas/core/frame.py\u001b[0m in \u001b[0;36mdrop\u001b[0;34m(self, labels, axis, index, columns, level, inplace, errors)\u001b[0m\n\u001b[1;32m   3995\u001b[0m             \u001b[0mlevel\u001b[0m\u001b[0;34m=\u001b[0m\u001b[0mlevel\u001b[0m\u001b[0;34m,\u001b[0m\u001b[0;34m\u001b[0m\u001b[0;34m\u001b[0m\u001b[0m\n\u001b[1;32m   3996\u001b[0m             \u001b[0minplace\u001b[0m\u001b[0;34m=\u001b[0m\u001b[0minplace\u001b[0m\u001b[0;34m,\u001b[0m\u001b[0;34m\u001b[0m\u001b[0;34m\u001b[0m\u001b[0m\n\u001b[0;32m-> 3997\u001b[0;31m             \u001b[0merrors\u001b[0m\u001b[0;34m=\u001b[0m\u001b[0merrors\u001b[0m\u001b[0;34m,\u001b[0m\u001b[0;34m\u001b[0m\u001b[0;34m\u001b[0m\u001b[0m\n\u001b[0m\u001b[1;32m   3998\u001b[0m         )\n\u001b[1;32m   3999\u001b[0m \u001b[0;34m\u001b[0m\u001b[0m\n",
            "\u001b[0;32m/usr/local/lib/python3.6/dist-packages/pandas/core/generic.py\u001b[0m in \u001b[0;36mdrop\u001b[0;34m(self, labels, axis, index, columns, level, inplace, errors)\u001b[0m\n\u001b[1;32m   3934\u001b[0m         \u001b[0;32mfor\u001b[0m \u001b[0maxis\u001b[0m\u001b[0;34m,\u001b[0m \u001b[0mlabels\u001b[0m \u001b[0;32min\u001b[0m \u001b[0maxes\u001b[0m\u001b[0;34m.\u001b[0m\u001b[0mitems\u001b[0m\u001b[0;34m(\u001b[0m\u001b[0;34m)\u001b[0m\u001b[0;34m:\u001b[0m\u001b[0;34m\u001b[0m\u001b[0;34m\u001b[0m\u001b[0m\n\u001b[1;32m   3935\u001b[0m             \u001b[0;32mif\u001b[0m \u001b[0mlabels\u001b[0m \u001b[0;32mis\u001b[0m \u001b[0;32mnot\u001b[0m \u001b[0;32mNone\u001b[0m\u001b[0;34m:\u001b[0m\u001b[0;34m\u001b[0m\u001b[0;34m\u001b[0m\u001b[0m\n\u001b[0;32m-> 3936\u001b[0;31m                 \u001b[0mobj\u001b[0m \u001b[0;34m=\u001b[0m \u001b[0mobj\u001b[0m\u001b[0;34m.\u001b[0m\u001b[0m_drop_axis\u001b[0m\u001b[0;34m(\u001b[0m\u001b[0mlabels\u001b[0m\u001b[0;34m,\u001b[0m \u001b[0maxis\u001b[0m\u001b[0;34m,\u001b[0m \u001b[0mlevel\u001b[0m\u001b[0;34m=\u001b[0m\u001b[0mlevel\u001b[0m\u001b[0;34m,\u001b[0m \u001b[0merrors\u001b[0m\u001b[0;34m=\u001b[0m\u001b[0merrors\u001b[0m\u001b[0;34m)\u001b[0m\u001b[0;34m\u001b[0m\u001b[0;34m\u001b[0m\u001b[0m\n\u001b[0m\u001b[1;32m   3937\u001b[0m \u001b[0;34m\u001b[0m\u001b[0m\n\u001b[1;32m   3938\u001b[0m         \u001b[0;32mif\u001b[0m \u001b[0minplace\u001b[0m\u001b[0;34m:\u001b[0m\u001b[0;34m\u001b[0m\u001b[0;34m\u001b[0m\u001b[0m\n",
            "\u001b[0;32m/usr/local/lib/python3.6/dist-packages/pandas/core/generic.py\u001b[0m in \u001b[0;36m_drop_axis\u001b[0;34m(self, labels, axis, level, errors)\u001b[0m\n\u001b[1;32m   3968\u001b[0m                 \u001b[0mnew_axis\u001b[0m \u001b[0;34m=\u001b[0m \u001b[0maxis\u001b[0m\u001b[0;34m.\u001b[0m\u001b[0mdrop\u001b[0m\u001b[0;34m(\u001b[0m\u001b[0mlabels\u001b[0m\u001b[0;34m,\u001b[0m \u001b[0mlevel\u001b[0m\u001b[0;34m=\u001b[0m\u001b[0mlevel\u001b[0m\u001b[0;34m,\u001b[0m \u001b[0merrors\u001b[0m\u001b[0;34m=\u001b[0m\u001b[0merrors\u001b[0m\u001b[0;34m)\u001b[0m\u001b[0;34m\u001b[0m\u001b[0;34m\u001b[0m\u001b[0m\n\u001b[1;32m   3969\u001b[0m             \u001b[0;32melse\u001b[0m\u001b[0;34m:\u001b[0m\u001b[0;34m\u001b[0m\u001b[0;34m\u001b[0m\u001b[0m\n\u001b[0;32m-> 3970\u001b[0;31m                 \u001b[0mnew_axis\u001b[0m \u001b[0;34m=\u001b[0m \u001b[0maxis\u001b[0m\u001b[0;34m.\u001b[0m\u001b[0mdrop\u001b[0m\u001b[0;34m(\u001b[0m\u001b[0mlabels\u001b[0m\u001b[0;34m,\u001b[0m \u001b[0merrors\u001b[0m\u001b[0;34m=\u001b[0m\u001b[0merrors\u001b[0m\u001b[0;34m)\u001b[0m\u001b[0;34m\u001b[0m\u001b[0;34m\u001b[0m\u001b[0m\n\u001b[0m\u001b[1;32m   3971\u001b[0m             \u001b[0mresult\u001b[0m \u001b[0;34m=\u001b[0m \u001b[0mself\u001b[0m\u001b[0;34m.\u001b[0m\u001b[0mreindex\u001b[0m\u001b[0;34m(\u001b[0m\u001b[0;34m**\u001b[0m\u001b[0;34m{\u001b[0m\u001b[0maxis_name\u001b[0m\u001b[0;34m:\u001b[0m \u001b[0mnew_axis\u001b[0m\u001b[0;34m}\u001b[0m\u001b[0;34m)\u001b[0m\u001b[0;34m\u001b[0m\u001b[0;34m\u001b[0m\u001b[0m\n\u001b[1;32m   3972\u001b[0m \u001b[0;34m\u001b[0m\u001b[0m\n",
            "\u001b[0;32m/usr/local/lib/python3.6/dist-packages/pandas/core/indexes/base.py\u001b[0m in \u001b[0;36mdrop\u001b[0;34m(self, labels, errors)\u001b[0m\n\u001b[1;32m   5015\u001b[0m         \u001b[0;32mif\u001b[0m \u001b[0mmask\u001b[0m\u001b[0;34m.\u001b[0m\u001b[0many\u001b[0m\u001b[0;34m(\u001b[0m\u001b[0;34m)\u001b[0m\u001b[0;34m:\u001b[0m\u001b[0;34m\u001b[0m\u001b[0;34m\u001b[0m\u001b[0m\n\u001b[1;32m   5016\u001b[0m             \u001b[0;32mif\u001b[0m \u001b[0merrors\u001b[0m \u001b[0;34m!=\u001b[0m \u001b[0;34m\"ignore\"\u001b[0m\u001b[0;34m:\u001b[0m\u001b[0;34m\u001b[0m\u001b[0;34m\u001b[0m\u001b[0m\n\u001b[0;32m-> 5017\u001b[0;31m                 \u001b[0;32mraise\u001b[0m \u001b[0mKeyError\u001b[0m\u001b[0;34m(\u001b[0m\u001b[0;34mf\"{labels[mask]} not found in axis\"\u001b[0m\u001b[0;34m)\u001b[0m\u001b[0;34m\u001b[0m\u001b[0;34m\u001b[0m\u001b[0m\n\u001b[0m\u001b[1;32m   5018\u001b[0m             \u001b[0mindexer\u001b[0m \u001b[0;34m=\u001b[0m \u001b[0mindexer\u001b[0m\u001b[0;34m[\u001b[0m\u001b[0;34m~\u001b[0m\u001b[0mmask\u001b[0m\u001b[0;34m]\u001b[0m\u001b[0;34m\u001b[0m\u001b[0;34m\u001b[0m\u001b[0m\n\u001b[1;32m   5019\u001b[0m         \u001b[0;32mreturn\u001b[0m \u001b[0mself\u001b[0m\u001b[0;34m.\u001b[0m\u001b[0mdelete\u001b[0m\u001b[0;34m(\u001b[0m\u001b[0mindexer\u001b[0m\u001b[0;34m)\u001b[0m\u001b[0;34m\u001b[0m\u001b[0;34m\u001b[0m\u001b[0m\n",
            "\u001b[0;31mKeyError\u001b[0m: \"['#'] not found in axis\""
          ]
        }
      ]
    },
    {
      "cell_type": "code",
      "metadata": {
        "id": "vtD3zywwsWf0",
        "colab_type": "code",
        "colab": {
          "base_uri": "https://localhost:8080/",
          "height": 439
        },
        "outputId": "511334a7-d032-434e-b54f-ef73c23de341"
      },
      "source": [
        "type_two_num=df['Type 2'].nunique()\n",
        "print(type_two_num)\n",
        "# Total different types of `Type 2`\n",
        "type_two=df['Type 2'].unique()\n",
        "print(type_two)\n",
        "# Counts for different types of `Type 2`\n",
        "counts_type_two = df['Type 2'].value_counts()\n",
        "print(counts_type_two)\n",
        "# Number of Pokemons don't have `Type 2`\n",
        "no_type_two = df['Type 2'].isnull().sum()\n",
        "print(no_type_two)"
      ],
      "execution_count": 22,
      "outputs": [
        {
          "output_type": "stream",
          "text": [
            "18\n",
            "['Poison' nan 'Flying' 'Dragon' 'Ground' 'Fairy' 'Grass' 'Fighting'\n",
            " 'Psychic' 'Steel' 'Ice' 'Rock' 'Dark' 'Water' 'Electric' 'Fire' 'Ghost'\n",
            " 'Bug' 'Normal']\n",
            "Flying      97\n",
            "Ground      35\n",
            "Poison      34\n",
            "Psychic     33\n",
            "Fighting    26\n",
            "Grass       25\n",
            "Fairy       23\n",
            "Steel       22\n",
            "Dark        20\n",
            "Dragon      18\n",
            "Ghost       14\n",
            "Rock        14\n",
            "Water       14\n",
            "Ice         14\n",
            "Fire        12\n",
            "Electric     6\n",
            "Normal       4\n",
            "Bug          3\n",
            "Name: Type 2, dtype: int64\n",
            "386\n"
          ],
          "name": "stdout"
        }
      ]
    },
    {
      "cell_type": "code",
      "metadata": {
        "id": "om3KKcS_sw4U",
        "colab_type": "code",
        "colab": {
          "base_uri": "https://localhost:8080/",
          "height": 140
        },
        "outputId": "84d7fd4d-4005-4403-dbd3-56cc8b690d4a"
      },
      "source": [
        "healthiest_pokemon = df['Health Points'].idxmax()\n",
        "print(healthiest_pokemon)\n",
        "print('='*50)\n",
        "\n",
        "# Which pokemon has the highest Special Atack points?\n",
        "special_attack_pokemon = df['Attack speed points'].idxmax()\n",
        "print(special_attack_pokemon)\n",
        "print('='*50)\n",
        "\n",
        "# Which pokemon has the highest Special Defense points?\n",
        "special_defense_pokemon = df['Defense speed points'].idxmax()\n",
        "print(special_defense_pokemon)\n",
        "print('='*50)\n",
        "\n",
        "# Which pokemon has highest Speed?\n",
        "fastest_pokemon = df['Speed'].idxmax()\n",
        "print(fastest_pokemon)"
      ],
      "execution_count": 23,
      "outputs": [
        {
          "output_type": "stream",
          "text": [
            "Blissey\n",
            "==================================================\n",
            "Mega Mewtwo Y\n",
            "==================================================\n",
            "Shuckle\n",
            "==================================================\n",
            "Deoxys Speed Forme\n"
          ],
          "name": "stdout"
        }
      ]
    },
    {
      "cell_type": "code",
      "metadata": {
        "id": "05iC9Zcas2zY",
        "colab_type": "code",
        "colab": {
          "base_uri": "https://localhost:8080/",
          "height": 52
        },
        "outputId": "39f54f98-b475-48cd-f65f-76a78b083188"
      },
      "source": [
        "df = df[df.index.notnull()]\n",
        "\n",
        "# Code starts here\n",
        "\n",
        "# Find out which type of pokemons (use only `Type 1`) have the highest chances of being Legendary\n",
        "highest_legendary = df[df['Legendary'] == True]['Type 1'].value_counts().idxmax()\n",
        "print(highest_legendary)\n",
        "# Pokemons which do not have 'Type 2' but are Legendary\n",
        "single_type_legendary = len(df[df['Type 2'].isnull() & df['Legendary'] == True])\n",
        "print(single_type_legendary)"
      ],
      "execution_count": 24,
      "outputs": [
        {
          "output_type": "stream",
          "text": [
            "Psychic\n",
            "25\n"
          ],
          "name": "stdout"
        }
      ]
    },
    {
      "cell_type": "code",
      "metadata": {
        "id": "iKAjpzvQs-B7",
        "colab_type": "code",
        "colab": {
          "base_uri": "https://localhost:8080/",
          "height": 228
        },
        "outputId": "61d15f63-c64d-4354-d2d3-96f45b509db6"
      },
      "source": [
        "index = [i.upper() for i in df.index.values]\n",
        "df.index = index\n",
        "\n",
        "# Convert 'Type 1' to lowercase\n",
        "df['Type 1'] = df['Type 1'].apply(lambda x: x.lower())\n",
        "\n",
        "# Convert 'Type 2' to lowercase if present else \n",
        "df['Type 2'] = df['Type 2'].apply(lambda x: x.lower() if isinstance(x, str) else None)"
      ],
      "execution_count": 26,
      "outputs": [
        {
          "output_type": "stream",
          "text": [
            "/usr/local/lib/python3.6/dist-packages/ipykernel_launcher.py:5: SettingWithCopyWarning: \n",
            "A value is trying to be set on a copy of a slice from a DataFrame.\n",
            "Try using .loc[row_indexer,col_indexer] = value instead\n",
            "\n",
            "See the caveats in the documentation: https://pandas.pydata.org/pandas-docs/stable/user_guide/indexing.html#returning-a-view-versus-a-copy\n",
            "  \"\"\"\n",
            "/usr/local/lib/python3.6/dist-packages/ipykernel_launcher.py:8: SettingWithCopyWarning: \n",
            "A value is trying to be set on a copy of a slice from a DataFrame.\n",
            "Try using .loc[row_indexer,col_indexer] = value instead\n",
            "\n",
            "See the caveats in the documentation: https://pandas.pydata.org/pandas-docs/stable/user_guide/indexing.html#returning-a-view-versus-a-copy\n",
            "  \n"
          ],
          "name": "stderr"
        }
      ]
    },
    {
      "cell_type": "code",
      "metadata": {
        "id": "bn3qGD2rtDKJ",
        "colab_type": "code",
        "colab": {
          "base_uri": "https://localhost:8080/",
          "height": 34
        },
        "outputId": "d9f6cfeb-d7cc-44e7-e144-13bf7143319b"
      },
      "source": [
        "import numpy as np\n",
        "# Code starts here\n",
        "\n",
        "# Determine which type (Type 1) pokemons are the fastest(Speed)\n",
        "fastest_type = df.groupby('Type 1')['Speed'].agg(np.median).sort_values(ascending=False).idxmax()\n",
        "print(fastest_type)"
      ],
      "execution_count": 27,
      "outputs": [
        {
          "output_type": "stream",
          "text": [
            "flying\n"
          ],
          "name": "stdout"
        }
      ]
    },
    {
      "cell_type": "code",
      "metadata": {
        "id": "H2H48tpXtU2u",
        "colab_type": "code",
        "colab": {
          "base_uri": "https://localhost:8080/",
          "height": 404
        },
        "outputId": "3fd1d6bd-6dd9-4630-da03-8bf090bd859d"
      },
      "source": [
        "pivot = df.pivot_table(index='Type 1', values='Attack speed points', columns='Generation')\n",
        "print(pivot)"
      ],
      "execution_count": 28,
      "outputs": [
        {
          "output_type": "stream",
          "text": [
            "Generation           1          2  ...           5           6\n",
            "Type 1                             ...                        \n",
            "bug          46.428571  47.916667  ...   62.888889   48.000000\n",
            "dark               NaN  85.000000  ...   65.615385   78.666667\n",
            "dragon       73.333333        NaN  ...   97.777778   82.250000\n",
            "electric     91.111111  91.428571  ...   87.500000   83.666667\n",
            "fairy        77.500000  53.000000  ...         NaN   88.333333\n",
            "fighting     42.500000  35.000000  ...   47.142857   63.000000\n",
            "fire         93.142857  83.625000  ...   72.888889   88.500000\n",
            "flying             NaN        NaN  ...  117.500000   71.000000\n",
            "ghost       128.750000  85.000000  ...   91.000000   52.300000\n",
            "grass        90.538462  61.666667  ...   69.266667   67.400000\n",
            "ground       39.375000  45.000000  ...   61.600000         NaN\n",
            "ice         105.000000  60.000000  ...   80.000000   38.000000\n",
            "normal       55.125000  58.466667  ...   54.473684   46.750000\n",
            "poison       57.142857  70.000000  ...   50.000000   78.500000\n",
            "psychic     123.000000  84.285714  ...   92.785714  109.800000\n",
            "rock         61.500000  66.000000  ...   65.500000   75.888889\n",
            "steel              NaN  50.000000  ...   68.750000   72.000000\n",
            "water        69.354839  68.277778  ...   77.777778   85.200000\n",
            "\n",
            "[18 rows x 6 columns]\n"
          ],
          "name": "stdout"
        }
      ]
    },
    {
      "cell_type": "code",
      "metadata": {
        "id": "HKFXsAmStjlV",
        "colab_type": "code",
        "colab": {
          "base_uri": "https://localhost:8080/",
          "height": 140
        },
        "outputId": "bdfa1ad3-7a55-465b-ee8f-29d549baf0e0"
      },
      "source": [
        "df1 = pd.DataFrame({'fruit': ['apple', 'banana', 'orange'] * 3,\n",
        "                    'weight': ['high', 'medium', 'low'] * 3,\n",
        "                    'price': np.random.randint(0, 15, 9)})\n",
        "\n",
        "df2 = pd.DataFrame({'product': ['apple', 'orange', 'pine'] * 2,\n",
        "                    'kilo': ['high', 'low'] * 3,\n",
        "                    'price': np.random.randint(0, 15, 6)})\n",
        "\n",
        "# Code starts here\n",
        "merged = pd.merge(df1, df2, how='inner', left_on=['fruit', 'weight'], right_on=['product', 'kilo'], suffixes=['_left', '_right'])\n",
        "print(merged)"
      ],
      "execution_count": 29,
      "outputs": [
        {
          "output_type": "stream",
          "text": [
            "    fruit weight  price_left product  kilo  price_right\n",
            "0   apple   high           7   apple  high           13\n",
            "1   apple   high           1   apple  high           13\n",
            "2   apple   high           5   apple  high           13\n",
            "3  orange    low          13  orange   low           13\n",
            "4  orange    low           9  orange   low           13\n",
            "5  orange    low           0  orange   low           13\n"
          ],
          "name": "stdout"
        }
      ]
    },
    {
      "cell_type": "code",
      "metadata": {
        "id": "2ZdMANLttpEi",
        "colab_type": "code",
        "colab": {
          "base_uri": "https://localhost:8080/",
          "height": 457
        },
        "outputId": "088a537a-a236-472a-d3e9-c8c4f11077ae"
      },
      "source": [
        "Special_attack = df[[\"Attack speed points\"]]\n",
        "\n",
        "# Print first 5 rows\n",
        "print(Special_attack.head())\n",
        "\n",
        "# Create a function attack\n",
        "def attack(num): \n",
        "  \n",
        "    if num < 60: \n",
        "        return \"Low Attack\"\n",
        "  \n",
        "    elif num> 60 and num <= 120: \n",
        "        return \"Normal Attack\"\n",
        "  \n",
        "    else: \n",
        "        return \"High Attack\"\n",
        "\n",
        "#  apply attack function on the feature Attack speed points.\n",
        "Special_attack['Attack speed points'] = Special_attack['Attack speed points'].apply(attack) \n",
        "print(Special_attack)"
      ],
      "execution_count": 30,
      "outputs": [
        {
          "output_type": "stream",
          "text": [
            "               Attack speed points\n",
            "BULBASAUR                       65\n",
            "IVYSAUR                         80\n",
            "VENUSAUR                       100\n",
            "MEGA VENUSAUR                  122\n",
            "CHARMANDER                      60\n",
            "               Attack speed points\n",
            "BULBASAUR            Normal Attack\n",
            "IVYSAUR              Normal Attack\n",
            "VENUSAUR             Normal Attack\n",
            "MEGA VENUSAUR          High Attack\n",
            "CHARMANDER             High Attack\n",
            "...                            ...\n",
            "DIANCIE              Normal Attack\n",
            "MEGA DIANCIE           High Attack\n",
            "HOOPA CONFINED         High Attack\n",
            "HOOPA UNBOUND          High Attack\n",
            "VOLCANION              High Attack\n",
            "\n",
            "[799 rows x 1 columns]\n"
          ],
          "name": "stdout"
        },
        {
          "output_type": "stream",
          "text": [
            "/usr/local/lib/python3.6/dist-packages/ipykernel_launcher.py:19: SettingWithCopyWarning: \n",
            "A value is trying to be set on a copy of a slice from a DataFrame.\n",
            "Try using .loc[row_indexer,col_indexer] = value instead\n",
            "\n",
            "See the caveats in the documentation: https://pandas.pydata.org/pandas-docs/stable/user_guide/indexing.html#returning-a-view-versus-a-copy\n"
          ],
          "name": "stderr"
        }
      ]
    },
    {
      "cell_type": "code",
      "metadata": {
        "id": "StWpCUiPtvy6",
        "colab_type": "code",
        "colab": {
          "base_uri": "https://localhost:8080/",
          "height": 52
        },
        "outputId": "355fe075-e89a-478b-c2b4-7562ca5c814c"
      },
      "source": [
        "pokemon_type_avg = df.groupby('Type 1')['Total'].agg(np.mean).sort_values(ascending=False)\n",
        "\n",
        "# Strongest pokemon\n",
        "strongest_type = pokemon_type_avg.index[0]\n",
        "print(strongest_type)\n",
        "\n",
        "# Weakest pokemon\n",
        "weakest_type = pokemon_type_avg.index[-1]\n",
        "print(weakest_type)"
      ],
      "execution_count": 31,
      "outputs": [
        {
          "output_type": "stream",
          "text": [
            "dragon\n",
            "bug\n"
          ],
          "name": "stdout"
        }
      ]
    },
    {
      "cell_type": "code",
      "metadata": {
        "id": "vpeCGkR0t16k",
        "colab_type": "code",
        "colab": {
          "base_uri": "https://localhost:8080/",
          "height": 158
        },
        "outputId": "832c6cf6-b792-4f1b-8456-a50631fa7088"
      },
      "source": [
        "df.index.name = 'Name'\n",
        "\n",
        "# Create a subset of \"Legendary\",\"Generation\",\"Attack\" based on `True` Legendary \n",
        "pokemon_stats = df[df[\"Legendary\"] == True][[\"Legendary\",\"Generation\",\"Attack\"]]\n",
        "print(pokemon_stats.head())\n",
        "\n",
        "# Groupby on data to find highest Legendary pokemon\n",
        "pokemon_stats_legendary = pokemon_stats.groupby(['Generation','Name'])[['Attack']].agg(np.mean).idxmax()[0]\n",
        "print(pokemon_stats_legendary)"
      ],
      "execution_count": 32,
      "outputs": [
        {
          "output_type": "stream",
          "text": [
            "               Legendary  Generation  Attack\n",
            "Name                                        \n",
            "ARTICUNO            True           1      85\n",
            "ZAPDOS              True           1      90\n",
            "MOLTRES             True           1     100\n",
            "MEWTWO              True           1     110\n",
            "MEGA MEWTWO X       True           1     190\n",
            "(1, 'MEGA MEWTWO X')\n"
          ],
          "name": "stdout"
        }
      ]
    },
    {
      "cell_type": "code",
      "metadata": {
        "id": "g2kTFTONuAIm",
        "colab_type": "code",
        "colab": {
          "base_uri": "https://localhost:8080/",
          "height": 296
        },
        "outputId": "de0700f2-f799-449c-fe0f-0e074693a4b8"
      },
      "source": [
        "  import matplotlib.pyplot as plt\n",
        "  df = pd.read_csv('file.csv')\n",
        "\n",
        "# reset index to 'Name'\n",
        "df.set_index('Name', inplace=True)\n",
        "\n",
        "# drop column '#'\n",
        "df.drop('#', inplace=True, axis=1)\n",
        "\n",
        "# Code starts here\n",
        "\n",
        "# Counts for 'Type 2' counts in descending order\n",
        "type_2= df['Type 2'].value_counts(ascending=False)\n",
        "type_2.plot(kind='bar')\n",
        "plt.show()"
      ],
      "execution_count": 35,
      "outputs": [
        {
          "output_type": "display_data",
          "data": {
            "image/png": "[encoded data removed]",
            "text/plain": [
              "<Figure size 432x288 with 1 Axes>"
            ]
          },
          "metadata": {
            "tags": [],
            "needs_background": "light"
          }
        }
      ]
    },
    {
      "cell_type": "code",
      "metadata": {
        "id": "4uK0o8AvvPKV",
        "colab_type": "code",
        "colab": {}
      },
      "source": [
        ""
      ],
      "execution_count": 0,
      "outputs": []
    }
  ]
}