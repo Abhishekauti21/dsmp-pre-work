{
  "nbformat": 4,
  "nbformat_minor": 0,
  "metadata": {
    "colab": {
      "name": "pandas pract.ipynb",
      "provenance": [],
      "authorship_tag": "ABX9TyOPq2hHslgUbmfmCy1xJBF3",
      "include_colab_link": true
    },
    "kernelspec": {
      "name": "python3",
      "display_name": "Python 3"
    }
  },
  "cells": [
    {
      "cell_type": "markdown",
      "metadata": {
        "id": "view-in-github",
        "colab_type": "text"
      },
      "source": [
        "<a href=\"https://colab.research.google.com/github/Abhishekauti21/dsmp-pre-work/blob/master/pandas_pract.ipynb\" target=\"_parent\"><img src=\"https://colab.research.google.com/assets/colab-badge.svg\" alt=\"Open In Colab\"/></a>"
      ]
    },
    {
      "cell_type": "code",
      "metadata": {
        "id": "L_jSN1nzgp_x",
        "colab_type": "code",
        "outputId": "2915708d-b05e-4022-df54-416b0c3ddfb4",
        "colab": {
          "base_uri": "https://localhost:8080/",
          "height": 122
        }
      },
      "source": [
        "import pandas as pd\n",
        "nums = [800678, 800456]\n",
        "names = ['Richie', 'Mark']\n",
        "series_1 = pd.Series(nums)\n",
        "series_2 = pd.Series(nums, index=names)\n",
        "print(series_1)\n",
        "print(series_2)"
      ],
      "execution_count": 0,
      "outputs": [
        {
          "output_type": "stream",
          "text": [
            "0    800678\n",
            "1    800456\n",
            "dtype: int64\n",
            "Richie    800678\n",
            "Mark      800456\n",
            "dtype: int64\n"
          ],
          "name": "stdout"
        }
      ]
    },
    {
      "cell_type": "code",
      "metadata": {
        "id": "J71ybtM5g7DT",
        "colab_type": "code",
        "outputId": "bb62383a-a021-4871-abdd-6647c18d709a",
        "colab": {
          "base_uri": "https://localhost:8080/",
          "height": 228
        }
      },
      "source": [
        "import pandas as pd\n",
        "a = pd.Series([1,2,3,4], index=[0,1,2,3])\n",
        "b = pd.Series([1,2,3,4], index=[0,1,3,4])\n",
        "c = a + b\n",
        "print(c)\n",
        "c.fillna(0, inplace=True)\n",
        "print(c)"
      ],
      "execution_count": 0,
      "outputs": [
        {
          "output_type": "stream",
          "text": [
            "0    2.0\n",
            "1    4.0\n",
            "2    NaN\n",
            "3    7.0\n",
            "4    NaN\n",
            "dtype: float64\n",
            "0    2.0\n",
            "1    4.0\n",
            "2    0.0\n",
            "3    7.0\n",
            "4    0.0\n",
            "dtype: float64\n"
          ],
          "name": "stdout"
        }
      ]
    },
    {
      "cell_type": "code",
      "metadata": {
        "id": "qiXETF8n13KK",
        "colab_type": "code",
        "colab": {}
      },
      "source": [
        ""
      ],
      "execution_count": 0,
      "outputs": []
    }
  ]
}