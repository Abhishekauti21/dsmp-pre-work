{
  "nbformat": 4,
  "nbformat_minor": 0,
  "metadata": {
    "colab": {
      "name": "Dic Merging.ipynb",
      "provenance": [],
      "authorship_tag": "ABX9TyNj40WIgFWSMbChaKXltKb3",
      "include_colab_link": true
    },
    "kernelspec": {
      "name": "python3",
      "display_name": "Python 3"
    }
  },
  "cells": [
    {
      "cell_type": "markdown",
      "metadata": {
        "id": "view-in-github",
        "colab_type": "text"
      },
      "source": [
        "<a href=\"https://colab.research.google.com/github/Abhishekauti21/dsmp-pre-work/blob/master/Dic_Merging.ipynb\" target=\"_parent\"><img src=\"https://colab.research.google.com/assets/colab-badge.svg\" alt=\"Open In Colab\"/></a>"
      ]
    },
    {
      "cell_type": "code",
      "metadata": {
        "id": "FjQ-l0Po8Qnx",
        "colab_type": "code",
        "colab": {}
      },
      "source": [
        "#first method"
      ],
      "execution_count": 0,
      "outputs": []
    },
    {
      "cell_type": "code",
      "metadata": {
        "id": "Orz3Pn6l9ydN",
        "colab_type": "code",
        "colab": {}
      },
      "source": [
        "def merge(dict1,dict2):\n",
        "  result={**dict1,**dict2}\n",
        "  return result"
      ],
      "execution_count": 0,
      "outputs": []
    },
    {
      "cell_type": "code",
      "metadata": {
        "id": "vy0OFG-T-KZT",
        "colab_type": "code",
        "colab": {}
      },
      "source": [
        "dict1={'a':10,'b':20,'c':30}"
      ],
      "execution_count": 0,
      "outputs": []
    },
    {
      "cell_type": "code",
      "metadata": {
        "id": "mk8NQgSZ-ZHm",
        "colab_type": "code",
        "colab": {}
      },
      "source": [
        "dict2={'d':40,'e':50,'f':60}"
      ],
      "execution_count": 0,
      "outputs": []
    },
    {
      "cell_type": "code",
      "metadata": {
        "id": "vxqv7zLT-hvP",
        "colab_type": "code",
        "colab": {}
      },
      "source": [
        "dict3=merge(dict1,dict2)"
      ],
      "execution_count": 0,
      "outputs": []
    },
    {
      "cell_type": "code",
      "metadata": {
        "id": "_5NfA3-c-pmw",
        "colab_type": "code",
        "colab": {
          "base_uri": "https://localhost:8080/",
          "height": 34
        },
        "outputId": "f8b16c67-61dd-46ed-c84a-f4e1143b3fca"
      },
      "source": [
        "print(dict3)"
      ],
      "execution_count": 10,
      "outputs": [
        {
          "output_type": "stream",
          "text": [
            "{'a': 10, 'b': 20, 'c': 30, 'd': 40, 'e': 50, 'f': 60}\n"
          ],
          "name": "stdout"
        }
      ]
    },
    {
      "cell_type": "code",
      "metadata": {
        "id": "qOjI3kmj-zYx",
        "colab_type": "code",
        "colab": {}
      },
      "source": [
        "#Second Method"
      ],
      "execution_count": 0,
      "outputs": []
    },
    {
      "cell_type": "code",
      "metadata": {
        "id": "sScxzaLy-7nY",
        "colab_type": "code",
        "colab": {}
      },
      "source": [
        "def merge(dict1,dict2):\n",
        "  return(dict2.update(dict1))"
      ],
      "execution_count": 0,
      "outputs": []
    },
    {
      "cell_type": "code",
      "metadata": {
        "id": "SUD2s1Hl_J6E",
        "colab_type": "code",
        "colab": {}
      },
      "source": [
        "dict1={'a':10,'b':20,'c':30}"
      ],
      "execution_count": 0,
      "outputs": []
    },
    {
      "cell_type": "code",
      "metadata": {
        "id": "K2R1EtmO_QpX",
        "colab_type": "code",
        "colab": {}
      },
      "source": [
        "dict2={'d':40,'e':50,'f':60}"
      ],
      "execution_count": 0,
      "outputs": []
    },
    {
      "cell_type": "code",
      "metadata": {
        "id": "DWf1UEn__S-C",
        "colab_type": "code",
        "colab": {
          "base_uri": "https://localhost:8080/",
          "height": 34
        },
        "outputId": "3649e453-a09e-4bb8-fef4-7d7c1508c7b0"
      },
      "source": [
        "print(merge(dict1,dict2))"
      ],
      "execution_count": 15,
      "outputs": [
        {
          "output_type": "stream",
          "text": [
            "None\n"
          ],
          "name": "stdout"
        }
      ]
    },
    {
      "cell_type": "code",
      "metadata": {
        "id": "PNmiMxaL_l1N",
        "colab_type": "code",
        "colab": {
          "base_uri": "https://localhost:8080/",
          "height": 34
        },
        "outputId": "48c21cc2-0dc2-43d2-8e4d-dfd40fdb7c5d"
      },
      "source": [
        "print(dict2)"
      ],
      "execution_count": 16,
      "outputs": [
        {
          "output_type": "stream",
          "text": [
            "{'d': 40, 'e': 50, 'f': 60, 'a': 10, 'b': 20, 'c': 30}\n"
          ],
          "name": "stdout"
        }
      ]
    },
    {
      "cell_type": "code",
      "metadata": {
        "id": "0Ap_4nAs_pWR",
        "colab_type": "code",
        "colab": {}
      },
      "source": [
        ""
      ],
      "execution_count": 0,
      "outputs": []
    }
  ]
}