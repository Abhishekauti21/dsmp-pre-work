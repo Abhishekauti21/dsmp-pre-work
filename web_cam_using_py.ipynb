{
  "nbformat": 4,
  "nbformat_minor": 0,
  "metadata": {
    "colab": {
      "name": "web cam using py.ipynb",
      "provenance": [],
      "authorship_tag": "ABX9TyNwCN/gIEK21BzwaJ9yYXQF",
      "include_colab_link": true
    },
    "kernelspec": {
      "name": "python3",
      "display_name": "Python 3"
    }
  },
  "cells": [
    {
      "cell_type": "markdown",
      "metadata": {
        "id": "view-in-github",
        "colab_type": "text"
      },
      "source": [
        "<a href=\"https://colab.research.google.com/github/Abhishekauti21/dsmp-pre-work/blob/master/web_cam_using_py.ipynb\" target=\"_parent\"><img src=\"https://colab.research.google.com/assets/colab-badge.svg\" alt=\"Open In Colab\"/></a>"
      ]
    },
    {
      "cell_type": "code",
      "metadata": {
        "id": "_If3Ec_gqvU7",
        "colab_type": "code",
        "colab": {}
      },
      "source": [
        "import cv2"
      ],
      "execution_count": 0,
      "outputs": []
    },
    {
      "cell_type": "code",
      "metadata": {
        "id": "LAOv2kkAq5bq",
        "colab_type": "code",
        "colab": {}
      },
      "source": [
        "cap=cv2.VideoCapture(0)"
      ],
      "execution_count": 0,
      "outputs": []
    },
    {
      "cell_type": "code",
      "metadata": {
        "id": "1KyvObOXrIF0",
        "colab_type": "code",
        "colab": {}
      },
      "source": [
        "if not cap.isOpened():\n",
        "  raise IOError(\"Cannot open webcam\")\n",
        "while True:\n",
        "  ret,frame=cap.read()\n",
        "  frame=cv2.resize(frame,None,fx=0.5,fy=0.5,interpolation=cv2.INTER_AREA)\n",
        "  cv2.imshow('Input',frame)\n",
        "  c=cv2.waitkey(1)\n",
        "  if c==27:\n",
        "    break\n",
        "cap.release()\n",
        "cv2.destroyAllWindows()      "
      ],
      "execution_count": 0,
      "outputs": []
    },
    {
      "cell_type": "code",
      "metadata": {
        "id": "wTBS9A4drfPI",
        "colab_type": "code",
        "colab": {}
      },
      "source": [
        "import cv2\n",
        "import numpy\n",
        "\n",
        "cv2.namedWindow(\"preview\")\n",
        "vc = cv2.VideoCapture(0)\n",
        "\n",
        "if vc.isOpened(): # try to get the first frame\n",
        "    rval, frame = vc.read()\n",
        "else:\n",
        "    rval = False\n",
        "\n",
        "while rval:\n",
        "    cv2.imshow(\"preview\", frame)\n",
        "    rval, frame = vc.read()\n",
        "    key = cv2.waitKey(20)\n",
        "    if key == 27: # exit on ESC\n",
        "        break\n",
        "cv2.destroyWindow(\"preview\")"
      ],
      "execution_count": 0,
      "outputs": []
    },
    {
      "cell_type": "code",
      "metadata": {
        "id": "0ty7XZMLtpML",
        "colab_type": "code",
        "colab": {}
      },
      "source": [
        ""
      ],
      "execution_count": 0,
      "outputs": []
    }
  ]
}