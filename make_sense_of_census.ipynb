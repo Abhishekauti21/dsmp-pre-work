{
  "nbformat": 4,
  "nbformat_minor": 0,
  "metadata": {
    "colab": {
      "name": "make sense of census.ipynb",
      "provenance": [],
      "authorship_tag": "ABX9TyPsvBSqeRFJdNwLkbHG58/1",
      "include_colab_link": true
    },
    "kernelspec": {
      "name": "python3",
      "display_name": "Python 3"
    }
  },
  "cells": [
    {
      "cell_type": "markdown",
      "metadata": {
        "id": "view-in-github",
        "colab_type": "text"
      },
      "source": [
        "<a href=\"https://colab.research.google.com/github/Abhishekauti21/dsmp-pre-work/blob/master/make_sense_of_census.ipynb\" target=\"_parent\"><img src=\"https://colab.research.google.com/assets/colab-badge.svg\" alt=\"Open In Colab\"/></a>"
      ]
    },
    {
      "cell_type": "code",
      "metadata": {
        "id": "hDLlp8KJGdfb",
        "colab_type": "code",
        "colab": {}
      },
      "source": [
        "#Importing header files\n",
        "import numpy as np\n",
        "\n",
        "# Path of the file has been stored in variable called 'path'\n",
        "\n",
        "#New record\n",
        "new_record=[[50,  9,  4,  1,  0,  0, 40,  0]]\n",
        "\n",
        "#Code starts here\n",
        "data = np.genfromtxt(path, delimiter=\",\", skip_header=1)\n",
        "\n",
        "print(data.shape)\n",
        "\n",
        "#Concatenating the new record to the existing numpy array\n",
        "census=np.concatenate((data, new_record),axis = 0)\n",
        "\n",
        "print(census.shape)"
      ],
      "execution_count": 0,
      "outputs": []
    },
    {
      "cell_type": "code",
      "metadata": {
        "id": "-cE3CH5_GrlT",
        "colab_type": "code",
        "colab": {}
      },
      "source": [
        "#Code starts here\n",
        "age=census[:,0]\n",
        "max_age=age.max()\n",
        "print(max_age)\n",
        "min_age=age.min()\n",
        "print(min_age)\n",
        "age_mean=age.mean()\n",
        "print(age_mean)\n",
        "age_std=np.std(age)\n",
        "print(age_std)"
      ],
      "execution_count": 0,
      "outputs": []
    },
    {
      "cell_type": "code",
      "metadata": {
        "id": "wnxopnI2G21_",
        "colab_type": "code",
        "colab": {}
      },
      "source": [
        "#Code starts here\n",
        "race_0=census[census[:,2]==0]\n",
        "race_1=census[census[:,2]==1]\n",
        "race_2=census[census[:,2]==2]\n",
        "race_3=census[census[:,2]==3]\n",
        "race_4=census[census[:,2]==4]\n",
        "len_0=len(race_0)\n",
        "len_1=len(race_1)\n",
        "len_2=len(race_2)\n",
        "len_3=len(race_3)\n",
        "len_4=len(race_4)\n",
        "print('Race_0: ', len_0)\n",
        "print('Race_1: ', len_1)\n",
        "print('Race_2: ', len_2)\n",
        "print('Race_3: ', len_3)\n",
        "print('Race_4: ', len_4)\n",
        "race_list=[len_0, len_1,len_2, len_3, len_4]\n",
        "minority_race=race_list.index(min(race_list))"
      ],
      "execution_count": 0,
      "outputs": []
    },
    {
      "cell_type": "code",
      "metadata": {
        "id": "2otc8rGaHAIf",
        "colab_type": "code",
        "colab": {}
      },
      "source": [
        "#Code starts here\n",
        "senior_citizens=census[census[:,0]>60]\n",
        "\n",
        "#Calculating the sum of all the values of array\n",
        "working_hours_sum=senior_citizens.sum(axis=0)[6]\n",
        "\n",
        "#Finding the length of the array\n",
        "senior_citizens_len=len(senior_citizens)\n",
        "\n",
        "#Finding the average working hours\n",
        "avg_working_hours=working_hours_sum/senior_citizens_len"
      ],
      "execution_count": 0,
      "outputs": []
    },
    {
      "cell_type": "code",
      "metadata": {
        "id": "x2fxLRx5HGOO",
        "colab_type": "code",
        "colab": {}
      },
      "source": [
        "#Code starts here\n",
        "high=census[census[:,1]>10]\n",
        "\n",
        "#Finding the average pay\n",
        "avg_pay_high=high[:,7].mean()\n",
        "\n",
        "#Printing the average pay\n",
        "print(avg_pay_high)\n",
        "\n",
        "#Creating an array based on 'education' column\n",
        "low=census[census[:,1]<=10]\n",
        "\n",
        "#Finding the average pay\n",
        "avg_pay_low=low[:,7].mean()\n",
        "\n",
        "#Printing the average pay\n",
        "print(avg_pay_low)"
      ],
      "execution_count": 0,
      "outputs": []
    }
  ]
}