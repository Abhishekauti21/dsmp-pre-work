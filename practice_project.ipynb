{
  "nbformat": 4,
  "nbformat_minor": 0,
  "metadata": {
    "colab": {
      "name": "practice project.ipynb",
      "provenance": [],
      "authorship_tag": "ABX9TyP3hcAKRxC+KKosNqA13nkI",
      "include_colab_link": true
    },
    "kernelspec": {
      "name": "python3",
      "display_name": "Python 3"
    }
  },
  "cells": [
    {
      "cell_type": "markdown",
      "metadata": {
        "id": "view-in-github",
        "colab_type": "text"
      },
      "source": [
        "<a href=\"https://colab.research.google.com/github/Abhishekauti21/dsmp-pre-work/blob/master/practice_project.ipynb\" target=\"_parent\"><img src=\"https://colab.research.google.com/assets/colab-badge.svg\" alt=\"Open In Colab\"/></a>"
      ]
    },
    {
      "cell_type": "code",
      "metadata": {
        "id": "jsvEDP-Pczcq",
        "colab_type": "code",
        "colab": {
          "base_uri": "https://localhost:8080/",
          "height": 220
        },
        "outputId": "14ea7b77-672b-42af-88c6-19e3702fc2b2"
      },
      "source": [
        "class test:\n",
        "   def __init__(self,a):\n",
        "       self.a=a\n",
        "\n",
        "   def display(self):\n",
        "       print(self.a)\n",
        "obj=test()\n",
        "obj.display()"
      ],
      "execution_count": 1,
      "outputs": [
        {
          "output_type": "error",
          "ename": "TypeError",
          "evalue": "ignored",
          "traceback": [
            "\u001b[0;31m---------------------------------------------------------------------------\u001b[0m",
            "\u001b[0;31mTypeError\u001b[0m                                 Traceback (most recent call last)",
            "\u001b[0;32m<ipython-input-1-0d87ba21a81d>\u001b[0m in \u001b[0;36m<module>\u001b[0;34m()\u001b[0m\n\u001b[1;32m      5\u001b[0m    \u001b[0;32mdef\u001b[0m \u001b[0mdisplay\u001b[0m\u001b[0;34m(\u001b[0m\u001b[0mself\u001b[0m\u001b[0;34m)\u001b[0m\u001b[0;34m:\u001b[0m\u001b[0;34m\u001b[0m\u001b[0;34m\u001b[0m\u001b[0m\n\u001b[1;32m      6\u001b[0m        \u001b[0mprint\u001b[0m\u001b[0;34m(\u001b[0m\u001b[0mself\u001b[0m\u001b[0;34m.\u001b[0m\u001b[0ma\u001b[0m\u001b[0;34m)\u001b[0m\u001b[0;34m\u001b[0m\u001b[0;34m\u001b[0m\u001b[0m\n\u001b[0;32m----> 7\u001b[0;31m \u001b[0mobj\u001b[0m\u001b[0;34m=\u001b[0m\u001b[0mtest\u001b[0m\u001b[0;34m(\u001b[0m\u001b[0;34m)\u001b[0m\u001b[0;34m\u001b[0m\u001b[0;34m\u001b[0m\u001b[0m\n\u001b[0m\u001b[1;32m      8\u001b[0m \u001b[0mobj\u001b[0m\u001b[0;34m.\u001b[0m\u001b[0mdisplay\u001b[0m\u001b[0;34m(\u001b[0m\u001b[0;34m)\u001b[0m\u001b[0;34m\u001b[0m\u001b[0;34m\u001b[0m\u001b[0m\n",
            "\u001b[0;31mTypeError\u001b[0m: __init__() missing 1 required positional argument: 'a'"
          ]
        }
      ]
    },
    {
      "cell_type": "code",
      "metadata": {
        "id": "W-pr8LhWfySS",
        "colab_type": "code",
        "colab": {
          "base_uri": "https://localhost:8080/",
          "height": 34
        },
        "outputId": "3ad339b0-105d-4be1-c3e5-c2d5df953787"
      },
      "source": [
        "def f1():\n",
        "    x=100\n",
        "    print(x)\n",
        "x=+1\n",
        "f1()"
      ],
      "execution_count": 2,
      "outputs": [
        {
          "output_type": "stream",
          "text": [
            "100\n"
          ],
          "name": "stdout"
        }
      ]
    },
    {
      "cell_type": "code",
      "metadata": {
        "id": "rz10LWUogN5d",
        "colab_type": "code",
        "colab": {
          "base_uri": "https://localhost:8080/",
          "height": 34
        },
        "outputId": "3588347f-91ba-45c0-f8b7-7bc2ec710f4b"
      },
      "source": [
        "area = { 'living' : [400, 450], 'living' : [650, 800], 'kitchen' : [300, 250], 'garage' : [250, 0]}\n",
        "print (area['living'])"
      ],
      "execution_count": 3,
      "outputs": [
        {
          "output_type": "stream",
          "text": [
            "[650, 800]\n"
          ],
          "name": "stdout"
        }
      ]
    },
    {
      "cell_type": "code",
      "metadata": {
        "id": "K6cfSBGlgcvQ",
        "colab_type": "code",
        "colab": {
          "base_uri": "https://localhost:8080/",
          "height": 34
        },
        "outputId": "525ed337-8c4e-4432-ce37-ef5dcb93aace"
      },
      "source": [
        "List_1=[2,6,7,8]\n",
        "List_2=[2,6,7,8]\n",
        "print(List_1[-2] + List_2[2])"
      ],
      "execution_count": 4,
      "outputs": [
        {
          "output_type": "stream",
          "text": [
            "14\n"
          ],
          "name": "stdout"
        }
      ]
    },
    {
      "cell_type": "code",
      "metadata": {
        "id": "TMERVBWEgnmA",
        "colab_type": "code",
        "colab": {
          "base_uri": "https://localhost:8080/",
          "height": 70
        },
        "outputId": "af0b7bcf-ddc1-4bce-e0e2-d46786bb3ad0"
      },
      "source": [
        "d = {0: 'a', 1: 'b', 2: 'c'}\n",
        "for x, y in d.items():\n",
        "   print(x, y)"
      ],
      "execution_count": 5,
      "outputs": [
        {
          "output_type": "stream",
          "text": [
            "0 a\n",
            "1 b\n",
            "2 c\n"
          ],
          "name": "stdout"
        }
      ]
    },
    {
      "cell_type": "code",
      "metadata": {
        "id": "tfVJPBx-gths",
        "colab_type": "code",
        "colab": {
          "base_uri": "https://localhost:8080/",
          "height": 34
        },
        "outputId": "1171ed56-d91e-485b-d29c-afd0ed6e9703"
      },
      "source": [
        "Numbers=[10,5,7,8,9,5]\n",
        "print(max(Numbers)-min(Numbers))"
      ],
      "execution_count": 6,
      "outputs": [
        {
          "output_type": "stream",
          "text": [
            "5\n"
          ],
          "name": "stdout"
        }
      ]
    },
    {
      "cell_type": "code",
      "metadata": {
        "id": "zLl70wa0g8XR",
        "colab_type": "code",
        "colab": {
          "base_uri": "https://localhost:8080/",
          "height": 238
        },
        "outputId": "fac2d527-e71f-46b3-d715-55d9f6e0379f"
      },
      "source": [
        "fo = open(\"foo.txt\", \"read+\")\n",
        "print(\"Name of the file: \", fo.name)\n",
        "\n",
        "# Assuming file has following 5 lines\n",
        "# This is 1st line\n",
        "# This is 2nd line\n",
        "# This is 3rd line\n",
        "# This is 4th line\n",
        "# This is 5th line\n",
        "\n",
        "for index in range(5):\n",
        "    line = fo.readline()\n",
        "    print(\"Line No {} - {}\".format(index, line))\n",
        " #Close opened file\n",
        "fo.close()"
      ],
      "execution_count": 7,
      "outputs": [
        {
          "output_type": "error",
          "ename": "ValueError",
          "evalue": "ignored",
          "traceback": [
            "\u001b[0;31m---------------------------------------------------------------------------\u001b[0m",
            "\u001b[0;31mValueError\u001b[0m                                Traceback (most recent call last)",
            "\u001b[0;32m<ipython-input-7-081910952910>\u001b[0m in \u001b[0;36m<module>\u001b[0;34m()\u001b[0m\n\u001b[0;32m----> 1\u001b[0;31m \u001b[0mfo\u001b[0m \u001b[0;34m=\u001b[0m \u001b[0mopen\u001b[0m\u001b[0;34m(\u001b[0m\u001b[0;34m\"foo.txt\"\u001b[0m\u001b[0;34m,\u001b[0m \u001b[0;34m\"read+\"\u001b[0m\u001b[0;34m)\u001b[0m\u001b[0;34m\u001b[0m\u001b[0;34m\u001b[0m\u001b[0m\n\u001b[0m\u001b[1;32m      2\u001b[0m \u001b[0mprint\u001b[0m\u001b[0;34m(\u001b[0m\u001b[0;34m\"Name of the file: \"\u001b[0m\u001b[0;34m,\u001b[0m \u001b[0mfo\u001b[0m\u001b[0;34m.\u001b[0m\u001b[0mname\u001b[0m\u001b[0;34m)\u001b[0m\u001b[0;34m\u001b[0m\u001b[0;34m\u001b[0m\u001b[0m\n\u001b[1;32m      3\u001b[0m \u001b[0;34m\u001b[0m\u001b[0m\n\u001b[1;32m      4\u001b[0m \u001b[0;31m# Assuming file has following 5 lines\u001b[0m\u001b[0;34m\u001b[0m\u001b[0;34m\u001b[0m\u001b[0;34m\u001b[0m\u001b[0m\n\u001b[1;32m      5\u001b[0m \u001b[0;31m# This is 1st line\u001b[0m\u001b[0;34m\u001b[0m\u001b[0;34m\u001b[0m\u001b[0;34m\u001b[0m\u001b[0m\n",
            "\u001b[0;31mValueError\u001b[0m: invalid mode: 'read+'"
          ]
        }
      ]
    },
    {
      "cell_type": "code",
      "metadata": {
        "id": "ev3uFxU3hF8j",
        "colab_type": "code",
        "colab": {
          "base_uri": "https://localhost:8080/",
          "height": 202
        },
        "outputId": "61a3f3f8-7c0f-4318-ac7d-e1dfa3c392ab"
      },
      "source": [
        "x = \"abcdef\"\n",
        "while i in x:\n",
        "        print(i, end=\" \")\n"
      ],
      "execution_count": 8,
      "outputs": [
        {
          "output_type": "error",
          "ename": "NameError",
          "evalue": "ignored",
          "traceback": [
            "\u001b[0;31m---------------------------------------------------------------------------\u001b[0m",
            "\u001b[0;31mNameError\u001b[0m                                 Traceback (most recent call last)",
            "\u001b[0;32m<ipython-input-8-52e56221e999>\u001b[0m in \u001b[0;36m<module>\u001b[0;34m()\u001b[0m\n\u001b[1;32m      1\u001b[0m \u001b[0mx\u001b[0m \u001b[0;34m=\u001b[0m \u001b[0;34m\"abcdef\"\u001b[0m\u001b[0;34m\u001b[0m\u001b[0;34m\u001b[0m\u001b[0m\n\u001b[0;32m----> 2\u001b[0;31m \u001b[0;32mwhile\u001b[0m \u001b[0mi\u001b[0m \u001b[0;32min\u001b[0m \u001b[0mx\u001b[0m\u001b[0;34m:\u001b[0m\u001b[0;34m\u001b[0m\u001b[0;34m\u001b[0m\u001b[0m\n\u001b[0m\u001b[1;32m      3\u001b[0m         \u001b[0mprint\u001b[0m\u001b[0;34m(\u001b[0m\u001b[0mi\u001b[0m\u001b[0;34m,\u001b[0m \u001b[0mend\u001b[0m\u001b[0;34m=\u001b[0m\u001b[0;34m\" \"\u001b[0m\u001b[0;34m)\u001b[0m\u001b[0;34m\u001b[0m\u001b[0;34m\u001b[0m\u001b[0m\n",
            "\u001b[0;31mNameError\u001b[0m: name 'i' is not defined"
          ]
        }
      ]
    },
    {
      "cell_type": "code",
      "metadata": {
        "id": "ipbhfwNHhOFI",
        "colab_type": "code",
        "colab": {
          "base_uri": "https://localhost:8080/",
          "height": 34
        },
        "outputId": "f1febd41-56e6-4c0a-a481-8203ef091b97"
      },
      "source": [
        "def cube(x):\n",
        "   return x * x * x      \n",
        "x = cube(3)    \n",
        "print (x)\n"
      ],
      "execution_count": 9,
      "outputs": [
        {
          "output_type": "stream",
          "text": [
            "27\n"
          ],
          "name": "stdout"
        }
      ]
    },
    {
      "cell_type": "code",
      "metadata": {
        "id": "Rig63eJ1hSkk",
        "colab_type": "code",
        "colab": {
          "base_uri": "https://localhost:8080/",
          "height": 34
        },
        "outputId": "60243f3f-a28b-4100-b9c0-73ce3a218868"
      },
      "source": [
        "    print(((True) or (False) and (False) or (False)))\n"
      ],
      "execution_count": 10,
      "outputs": [
        {
          "output_type": "stream",
          "text": [
            "True\n"
          ],
          "name": "stdout"
        }
      ]
    },
    {
      "cell_type": "code",
      "metadata": {
        "id": "TyORajr1haPE",
        "colab_type": "code",
        "colab": {
          "base_uri": "https://localhost:8080/",
          "height": 34
        },
        "outputId": "139f84d0-efe6-4a2f-995b-4ea76425041d"
      },
      "source": [
        "x1=int('16')\n",
        "x2=8 + 8\n",
        "x3= (4**2)\n",
        "\n",
        "print(x1 is x2 is x3)\n"
      ],
      "execution_count": 12,
      "outputs": [
        {
          "output_type": "stream",
          "text": [
            "True\n"
          ],
          "name": "stdout"
        }
      ]
    },
    {
      "cell_type": "code",
      "metadata": {
        "id": "In00o6TEhgK8",
        "colab_type": "code",
        "colab": {
          "base_uri": "https://localhost:8080/",
          "height": 132
        },
        "outputId": "c3737b58-c496-4230-da70-ebe047711f57"
      },
      "source": [
        "Word='warrior knights' ,A=Word[9:14],B=Word[-13:-16:-1]\n",
        "B+A"
      ],
      "execution_count": 13,
      "outputs": [
        {
          "output_type": "error",
          "ename": "SyntaxError",
          "evalue": "ignored",
          "traceback": [
            "\u001b[0;36m  File \u001b[0;32m\"<ipython-input-13-85774a401a8a>\"\u001b[0;36m, line \u001b[0;32m1\u001b[0m\n\u001b[0;31m    Word='warrior knights' ,A=Word[9:14],B=Word[-13:-16:-1]\u001b[0m\n\u001b[0m        ^\u001b[0m\n\u001b[0;31mSyntaxError\u001b[0m\u001b[0;31m:\u001b[0m can't assign to literal\n"
          ]
        }
      ]
    },
    {
      "cell_type": "code",
      "metadata": {
        "id": "g0_o9CkDh0oc",
        "colab_type": "code",
        "colab": {
          "base_uri": "https://localhost:8080/",
          "height": 34
        },
        "outputId": "eec80cac-d5e2-4d8c-92ba-a9e7e90f3116"
      },
      "source": [
        "def to_upper(k):\n",
        "   return k.upper()\n",
        "x = ['ab', 'cd']\n",
        "print(list(map(to_upper, x)))"
      ],
      "execution_count": 14,
      "outputs": [
        {
          "output_type": "stream",
          "text": [
            "['AB', 'CD']\n"
          ],
          "name": "stdout"
        }
      ]
    },
    {
      "cell_type": "code",
      "metadata": {
        "id": "ImmoCJj_iCvJ",
        "colab_type": "code",
        "colab": {
          "base_uri": "https://localhost:8080/",
          "height": 34
        },
        "outputId": "6f0df1f2-831c-430f-ce63-3731dc387186"
      },
      "source": [
        "my_string = \"hello world\"\n",
        "k = [(i.upper(), len(i)) for i in my_string]\n",
        "print(k)"
      ],
      "execution_count": 15,
      "outputs": [
        {
          "output_type": "stream",
          "text": [
            "[('H', 1), ('E', 1), ('L', 1), ('L', 1), ('O', 1), (' ', 1), ('W', 1), ('O', 1), ('R', 1), ('L', 1), ('D', 1)]\n"
          ],
          "name": "stdout"
        }
      ]
    },
    {
      "cell_type": "code",
      "metadata": {
        "id": "Nm_2fWqViHq_",
        "colab_type": "code",
        "colab": {
          "base_uri": "https://localhost:8080/",
          "height": 238
        },
        "outputId": "5bd20899-bb9a-4530-db26-d6d4009429a3"
      },
      "source": [
        "from csv import reader\n",
        "\n",
        "def explore_data(dataset, start, end, rows_and_columns=False):\n",
        "    \"\"\"Explore the elements of a list.\n",
        "    \n",
        "    Print the elements of a list starting from the index 'start'(included) upto the index 'end'         (excluded).\n",
        "    \n",
        "    Keyword arguments:\n",
        "    dataset -- list of which we want to see the elements\n",
        "    start -- index of the first element we want to see, this is included\n",
        "    end -- index of the stopping element, this is excluded \n",
        "    rows_and_columns -- this parameter is optional while calling the function. It takes binary          values, either True or False. If true, print the dimension of the list, else dont.\n",
        "    \"\"\"\n",
        "    \n",
        "    \n",
        "    dataset_slice = dataset[start:end]    \n",
        "    for row in dataset_slice:\n",
        "        print(row)\n",
        "        print('\\n') # adds a new (empty) line between rows\n",
        "        \n",
        "    if rows_and_columns:\n",
        "        print('Number of rows:', len(dataset))\n",
        "        print('Number of columns:', len(dataset[0]))\n",
        "        \n",
        "     \n",
        "\n",
        "\n",
        "def duplicate_and_unique_movies(dataset, index_):\n",
        "    \"\"\"Check the duplicate and unique entries.\n",
        "    \n",
        "    We have nested list. This function checks if the rows in the list is unique or duplicated based     on the element at index 'index_'.\n",
        "    It prints the Number of duplicate entries, along with some examples of duplicated entry.\n",
        "    \n",
        "    Keyword arguments:\n",
        "    dataset -- two dimensional list which we want to explore\n",
        "    index_ -- column index at which the element in each row would be checked for duplicacy \n",
        "    \n",
        "    \"\"\"\n",
        "    \n",
        "    duplicate = []\n",
        "    unique = []\n",
        "\n",
        "    for movie in dataset:\n",
        "        name = movie[index_]\n",
        "        if name in unique:\n",
        "            duplicate.append(name)\n",
        "        else:\n",
        "            unique.append(name)\n",
        "\n",
        "    print('Number of duplicate Movies:', len(duplicate))\n",
        "    print('\\n')\n",
        "    print('Examples of duplicate Movies:', duplicate[:15])\n",
        "    \n",
        "\n",
        "\n",
        "\n",
        "def movies_lang(dataset, index_, lang_):\n",
        "    \"\"\"Extract the movies of a particular language.\n",
        "    \n",
        "    Of all the movies available in all languages, this function extracts all the movies in a            particular laguage.\n",
        "    Once you ahve extracted the movies, call the explore_data() to print first few rows.\n",
        "    \n",
        "    Keyword arguments:\n",
        "    dataset -- list containing the details of the movie\n",
        "    index_ -- index which is to be compared for langauges\n",
        "    lang_ -- desired language for which we want to filter out the movies\n",
        "    \n",
        "    Returns:\n",
        "    movies_ -- list with details of the movies in selected language\n",
        "    \n",
        "    \"\"\"\n",
        "    movies_ = []\n",
        "\n",
        "    for movie in movies:\n",
        "        lang = movie[index_]\n",
        "        if lang == lang_:\n",
        "            movies_.append(movie)\n",
        "\n",
        "    print(\"Examples of Movies in English Language:\")    \n",
        "    explore_data(movies_, 0, 3, True)\n",
        "    return movies_\n",
        "    \n",
        "\n",
        "\n",
        "def rate_bucket(dataset, rate_low, rate_high):\n",
        "    \"\"\"Extract the movies within the specified ratings.\n",
        "    \n",
        "    This function extracts all the movies that has rating between rate_low and high_rate.\n",
        "    Once you ahve extracted the movies, call the explore_data() to print first few rows.\n",
        "    \n",
        "    Keyword arguments:\n",
        "    dataset -- list containing the details of the movie\n",
        "    rate_low -- lower range of rating\n",
        "    rate_high -- higher range of rating\n",
        "    \n",
        "    Returns:\n",
        "    rated_movies -- list of the details of the movies with required ratings\n",
        "    \"\"\"\n",
        "\n",
        "    rated_movies = []\n",
        "\n",
        "    for movie in dataset:\n",
        "        vote_avg = float(movie[-4])\n",
        "        if ((vote_avg >= rate_low) & (vote_avg <= rate_high)):\n",
        "            rated_movies.append(movie)\n",
        "\n",
        "    print(\"Examples of Movies in required rating bucket:\")    \n",
        "    explore_data(rated_movies, 0, 3, True)\n",
        "    return rated_movies\n",
        "\n",
        "\n",
        "# Read the data file and store it as a list 'movies'\n",
        "opened_file = open(path, encoding=\"utf8\")\n",
        "read_file = reader(opened_file)\n",
        "movies = list(read_file)\n",
        "\n",
        "# The first row is header. Extract and store it in 'movies_header'.\n",
        "movies_header = movies[0]\n",
        "print(\"Movies Header:\\n\", movies_header)\n",
        "\n",
        "# Subset the movies dataset such that the header is removed from the list and store it back in movies\n",
        "movies = movies[1:]\n",
        "\n",
        "\n",
        "\n",
        "# Delete wrong data\n",
        "# Explore the row #4553. You will see that as apart from the id, description, status and title, no other information is available.\n",
        "# Hence drop this row.\n",
        "\n",
        "print(\"Entry at index 4553:\")\n",
        "explore_data(movies, 4553, 4554)\n",
        "\n",
        "del movies[4553]\n",
        "\n",
        "\n",
        "\n",
        "\n",
        "# Using explore_data() with appropriate parameters, view the details of the first 5 movies.\n",
        "print(\"First 5 Entries:\")\n",
        "explore_data(movies, 0, 5, True)\n",
        "\n",
        "\n",
        "\n",
        "# Our dataset might have more than one entry for a movie. Call duplicate_and_unique_movies() with index of the name to check the same.\n",
        "\n",
        "duplicate_and_unique_movies(movies, 13)\n",
        "\n",
        "\n",
        "# We saw that there are 3 movies for which the there are multiple entries. \n",
        "# Create a dictionary, 'reviews_max' that will have the name of the movie as key, and the maximum number of reviews as values.\n",
        "\n",
        "reviews_max = {}\n",
        "\n",
        "for movie in movies:\n",
        "    name = movie[13]\n",
        "    n_reviews = float(movie[12])\n",
        "    \n",
        "    if name in reviews_max and reviews_max[name] < n_reviews:\n",
        "        reviews_max[name] = n_reviews\n",
        "        \n",
        "    elif name not in reviews_max:\n",
        "        reviews_max[name] = n_reviews\n",
        "        \n",
        "len(reviews_max)\n",
        "\n",
        "# Create a list 'movies_clean', which will filter out the duplicate movies and contain the rows with maximum number of reviews for duplicate movies, as stored in 'review_max'. \n",
        "\n",
        "movies_clean = []\n",
        "already_added = []\n",
        "\n",
        "for movie in movies:\n",
        "    name = movie[13]\n",
        "    n_reviews = float(movie[12])\n",
        "    \n",
        "    if (reviews_max[name] == n_reviews) and (name not in already_added):\n",
        "        movies_clean.append(movie)\n",
        "        already_added.append(name)\n",
        "        \n",
        "len(movies_clean)\n",
        "\n",
        "\n",
        "\n",
        "# Calling movies_lang(), extract all the english movies and store it in movies_en.\n",
        "\n",
        "movies_en = movies_lang(movies_clean, 3, 'en')\n",
        "\n",
        "\n",
        "\n",
        "# Call the rate_bucket function to see the movies with rating higher than 8.\n",
        "\n",
        "high_rated_movies = rate_bucket(movies_en, 8, 10)\n"
      ],
      "execution_count": 16,
      "outputs": [
        {
          "output_type": "error",
          "ename": "NameError",
          "evalue": "ignored",
          "traceback": [
            "\u001b[0;31m---------------------------------------------------------------------------\u001b[0m",
            "\u001b[0;31mNameError\u001b[0m                                 Traceback (most recent call last)",
            "\u001b[0;32m<ipython-input-16-68f6b08e2673>\u001b[0m in \u001b[0;36m<module>\u001b[0;34m()\u001b[0m\n\u001b[1;32m    111\u001b[0m \u001b[0;34m\u001b[0m\u001b[0m\n\u001b[1;32m    112\u001b[0m \u001b[0;31m# Read the data file and store it as a list 'movies'\u001b[0m\u001b[0;34m\u001b[0m\u001b[0;34m\u001b[0m\u001b[0;34m\u001b[0m\u001b[0m\n\u001b[0;32m--> 113\u001b[0;31m \u001b[0mopened_file\u001b[0m \u001b[0;34m=\u001b[0m \u001b[0mopen\u001b[0m\u001b[0;34m(\u001b[0m\u001b[0mpath\u001b[0m\u001b[0;34m,\u001b[0m \u001b[0mencoding\u001b[0m\u001b[0;34m=\u001b[0m\u001b[0;34m\"utf8\"\u001b[0m\u001b[0;34m)\u001b[0m\u001b[0;34m\u001b[0m\u001b[0;34m\u001b[0m\u001b[0m\n\u001b[0m\u001b[1;32m    114\u001b[0m \u001b[0mread_file\u001b[0m \u001b[0;34m=\u001b[0m \u001b[0mreader\u001b[0m\u001b[0;34m(\u001b[0m\u001b[0mopened_file\u001b[0m\u001b[0;34m)\u001b[0m\u001b[0;34m\u001b[0m\u001b[0;34m\u001b[0m\u001b[0m\n\u001b[1;32m    115\u001b[0m \u001b[0mmovies\u001b[0m \u001b[0;34m=\u001b[0m \u001b[0mlist\u001b[0m\u001b[0;34m(\u001b[0m\u001b[0mread_file\u001b[0m\u001b[0;34m)\u001b[0m\u001b[0;34m\u001b[0m\u001b[0;34m\u001b[0m\u001b[0m\n",
            "\u001b[0;31mNameError\u001b[0m: name 'path' is not defined"
          ]
        }
      ]
    },
    {
      "cell_type": "code",
      "metadata": {
        "id": "iIODpxm_n39a",
        "colab_type": "code",
        "colab": {}
      },
      "source": [
        ""
      ],
      "execution_count": 0,
      "outputs": []
    }
  ]
}