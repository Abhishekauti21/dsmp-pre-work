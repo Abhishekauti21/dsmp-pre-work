{
  "nbformat": 4,
  "nbformat_minor": 0,
  "metadata": {
    "colab": {
      "name": "ploting methods.ipynb",
      "provenance": [],
      "collapsed_sections": [],
      "authorship_tag": "ABX9TyOtu1csC6kWbJyXhXayhOKC",
      "include_colab_link": true
    },
    "kernelspec": {
      "name": "python3",
      "display_name": "Python 3"
    }
  },
  "cells": [
    {
      "cell_type": "markdown",
      "metadata": {
        "id": "view-in-github",
        "colab_type": "text"
      },
      "source": [
        "<a href=\"https://colab.research.google.com/github/Abhishekauti21/dsmp-pre-work/blob/master/ploting_methods.ipynb\" target=\"_parent\"><img src=\"https://colab.research.google.com/assets/colab-badge.svg\" alt=\"Open In Colab\"/></a>"
      ]
    },
    {
      "cell_type": "code",
      "metadata": {
        "id": "Wfd-n9sJS1FM",
        "colab_type": "code",
        "colab": {}
      },
      "source": [
        "import numpy as np\n",
        "import matplotlib.pyplot as plt\n",
        "\n",
        "class norm1:\n",
        "    def __init__(self, a1, b1, c1):\n",
        "        self.a1 = a1\n",
        "        self.b1 = b1\n",
        "        self.c1 = c1\n",
        "        \n",
        "    def dist_curve(self):\n",
        "        plt.plot(self.c1, 1/(self.b1 * np.sqrt(2 * np.pi)) *\n",
        "            np.exp( - (self.c1 - self.a1)**2 / (2 * self.b1**2) ), linewidth=2, color='y')\n",
        "        plt.show()\n"
      ],
      "execution_count": 0,
      "outputs": []
    },
    {
      "cell_type": "code",
      "metadata": {
        "id": "jaPG9xuokYsW",
        "colab_type": "code",
        "outputId": "e3232395-4a2a-4b8a-9ba1-b3e2418cc2ee",
        "colab": {
          "base_uri": "https://localhost:8080/",
          "height": 315
        }
      },
      "source": [
        "mean1 = 5 \n",
        "sd1 = 2\n",
        "\n",
        "c = np.random.normal(mean1, sd1, 3000)\n",
        "        \n",
        "w1, x1, z1 = plt.hist(c, 100, normed=True) #hist\n",
        "\n",
        "#hist1 = norm1(mean1, sd1, x1)\n",
        "#plot1 = hist1.dist_curve()\n"
      ],
      "execution_count": 0,
      "outputs": [
        {
          "output_type": "stream",
          "text": [
            "/usr/local/lib/python3.6/dist-packages/ipykernel_launcher.py:6: MatplotlibDeprecationWarning: \n",
            "The 'normed' kwarg was deprecated in Matplotlib 2.1 and will be removed in 3.1. Use 'density' instead.\n",
            "  \n"
          ],
          "name": "stderr"
        },
        {
          "output_type": "display_data",
          "data": {
            "image/png": "[encoded data removed]",
            "text/plain": [
              "<Figure size 432x288 with 1 Axes>"
            ]
          },
          "metadata": {
            "tags": []
          }
        }
      ]
    },
    {
      "cell_type": "code",
      "metadata": {
        "id": "sKnVnNxWkiav",
        "colab_type": "code",
        "colab": {}
      },
      "source": [
        "import matplotlib.pyplot as plt\n",
        "import numpy as np\n",
        "import scipy.stats as stats\n",
        "import math"
      ],
      "execution_count": 0,
      "outputs": []
    },
    {
      "cell_type": "code",
      "metadata": {
        "id": "ll_Q42Yil1XX",
        "colab_type": "code",
        "colab": {}
      },
      "source": [
        "x=np.linspace(0,5,100)"
      ],
      "execution_count": 0,
      "outputs": []
    },
    {
      "cell_type": "code",
      "metadata": {
        "id": "sRNNCPYymCpV",
        "colab_type": "code",
        "colab": {}
      },
      "source": [
        "y=stats.norm.pdf(x)"
      ],
      "execution_count": 0,
      "outputs": []
    },
    {
      "cell_type": "code",
      "metadata": {
        "id": "gLeakye0mNBn",
        "colab_type": "code",
        "outputId": "f002775e-1430-40ec-b898-4958bd35568e",
        "colab": {
          "base_uri": "https://localhost:8080/",
          "height": 282
        }
      },
      "source": [
        "plt.plot(x,y)"
      ],
      "execution_count": 0,
      "outputs": [
        {
          "output_type": "execute_result",
          "data": {
            "text/plain": [
              "[<matplotlib.lines.Line2D at 0x7fd9b6673ba8>]"
            ]
          },
          "metadata": {
            "tags": []
          },
          "execution_count": 12
        },
        {
          "output_type": "display_data",
          "data": {
            "image/png": "[encoded data removed]",
            "text/plain": [
              "<Figure size 432x288 with 1 Axes>"
            ]
          },
          "metadata": {
            "tags": []
          }
        }
      ]
    },
    {
      "cell_type": "code",
      "metadata": {
        "id": "xXHJpAJomQJl",
        "colab_type": "code",
        "colab": {}
      },
      "source": [
        "cy=stats.norm.cdf(x)"
      ],
      "execution_count": 0,
      "outputs": []
    },
    {
      "cell_type": "code",
      "metadata": {
        "id": "5XKRTW9Vmnxp",
        "colab_type": "code",
        "outputId": "a830c5e9-26e3-49df-b848-e954df11af5c",
        "colab": {
          "base_uri": "https://localhost:8080/",
          "height": 437
        }
      },
      "source": [
        "cy"
      ],
      "execution_count": 0,
      "outputs": [
        {
          "output_type": "execute_result",
          "data": {
            "text/plain": [
              "array([2.86651572e-07, 4.81652980e-07, 8.01369697e-07, 1.32024804e-06,\n",
              "       2.15381086e-06, 3.47932307e-06, 5.56574305e-06, 8.81655865e-06,\n",
              "       1.38302263e-05, 2.14842775e-05, 3.30507197e-05, 5.03521029e-05,\n",
              "       7.59694692e-05, 1.13515215e-04, 1.67985497e-04, 2.46207894e-04,\n",
              "       3.57400327e-04, 5.13856234e-04, 7.31768322e-04, 1.03219832e-03,\n",
              "       1.44219270e-03, 1.99603373e-03, 2.73660179e-03, 3.71680801e-03,\n",
              "       5.00103726e-03, 6.66652060e-03, 8.80453516e-03, 1.15213100e-02,\n",
              "       1.49385013e-02, 1.91930895e-02, 2.44365552e-02, 3.08331960e-02,\n",
              "       3.85574780e-02, 4.77903523e-02, 5.87145199e-02, 7.15086990e-02,\n",
              "       8.63410207e-02, 1.03361763e-01, 1.22695707e-01, 1.44434484e-01,\n",
              "       1.68629302e-01, 1.95284521e-01, 2.24352499e-01, 2.55730119e-01,\n",
              "       2.89257361e-01, 3.24718142e-01, 3.61843565e-01, 4.00317549e-01,\n",
              "       4.39784680e-01, 4.79859962e-01, 5.20140038e-01, 5.60215320e-01,\n",
              "       5.99682451e-01, 6.38156435e-01, 6.75281858e-01, 7.10742639e-01,\n",
              "       7.44269881e-01, 7.75647501e-01, 8.04715479e-01, 8.31370698e-01,\n",
              "       8.55565516e-01, 8.77304293e-01, 8.96638237e-01, 9.13658979e-01,\n",
              "       9.28491301e-01, 9.41285480e-01, 9.52209648e-01, 9.61442522e-01,\n",
              "       9.69166804e-01, 9.75563445e-01, 9.80806910e-01, 9.85061499e-01,\n",
              "       9.88478690e-01, 9.91195465e-01, 9.93333479e-01, 9.94998963e-01,\n",
              "       9.96283192e-01, 9.97263398e-01, 9.98003966e-01, 9.98557807e-01,\n",
              "       9.98967802e-01, 9.99268232e-01, 9.99486144e-01, 9.99642600e-01,\n",
              "       9.99753792e-01, 9.99832015e-01, 9.99886485e-01, 9.99924031e-01,\n",
              "       9.99949648e-01, 9.99966949e-01, 9.99978516e-01, 9.99986170e-01,\n",
              "       9.99991183e-01, 9.99994434e-01, 9.99996521e-01, 9.99997846e-01,\n",
              "       9.99998680e-01, 9.99999199e-01, 9.99999518e-01, 9.99999713e-01])"
            ]
          },
          "metadata": {
            "tags": []
          },
          "execution_count": 16
        }
      ]
    },
    {
      "cell_type": "code",
      "metadata": {
        "id": "mbaYGWolnoU8",
        "colab_type": "code",
        "outputId": "51a7892f-f499-4f2c-b4bc-fa8aaa6a2db3",
        "colab": {
          "base_uri": "https://localhost:8080/",
          "height": 282
        }
      },
      "source": [
        "plt.plot(cy)"
      ],
      "execution_count": 0,
      "outputs": [
        {
          "output_type": "execute_result",
          "data": {
            "text/plain": [
              "[<matplotlib.lines.Line2D at 0x7fd9b65089b0>]"
            ]
          },
          "metadata": {
            "tags": []
          },
          "execution_count": 20
        },
        {
          "output_type": "display_data",
          "data": {
            "image/png": "[encoded data removed]",
            "text/plain": [
              "<Figure size 432x288 with 1 Axes>"
            ]
          },
          "metadata": {
            "tags": []
          }
        }
      ]
    },
    {
      "cell_type": "code",
      "metadata": {
        "id": "JGEVgAkPnwDl",
        "colab_type": "code",
        "colab": {}
      },
      "source": [
        "x=np.linspace(0,5,100)\n",
        "y=stats.norm.pdf(x)"
      ],
      "execution_count": 0,
      "outputs": []
    },
    {
      "cell_type": "code",
      "metadata": {
        "id": "g4MY98aOoNtR",
        "colab_type": "code",
        "colab": {}
      },
      "source": [
        "y1=stats.expon(-1.5).pdf(x)\n",
        "y2=stats.expon(-0.5).pdf(x)\n",
        "y3=stats.expon(-2.5).pdf(x)"
      ],
      "execution_count": 0,
      "outputs": []
    },
    {
      "cell_type": "code",
      "metadata": {
        "id": "bHzC_hgAouLX",
        "colab_type": "code",
        "outputId": "59d8be17-197e-4c2f-d683-29026f76f311",
        "colab": {
          "base_uri": "https://localhost:8080/",
          "height": 282
        }
      },
      "source": [
        "plt.plot(x,y1)\n",
        "plt.plot(x,y2)\n",
        "plt.plot(x,y3)"
      ],
      "execution_count": 0,
      "outputs": [
        {
          "output_type": "execute_result",
          "data": {
            "text/plain": [
              "[<matplotlib.lines.Line2D at 0x7fd9b61c5ba8>]"
            ]
          },
          "metadata": {
            "tags": []
          },
          "execution_count": 40
        },
        {
          "output_type": "display_data",
          "data": {
            "image/png": "[encoded data removed]",
            "text/plain": [
              "<Figure size 432x288 with 1 Axes>"
            ]
          },
          "metadata": {
            "tags": []
          }
        }
      ]
    },
    {
      "cell_type": "code",
      "metadata": {
        "id": "hb_XB059-A1U",
        "colab_type": "code",
        "colab": {}
      },
      "source": [
        "x=[1,2,3,4,5,6,7,8,9,10,11,12,13,14,15,16,17,18]"
      ],
      "execution_count": 0,
      "outputs": []
    },
    {
      "cell_type": "code",
      "metadata": {
        "id": "BBkdx7-Q-EWT",
        "colab_type": "code",
        "colab": {}
      },
      "source": [
        "p1=stats.poisson(1).pmf(x)\n",
        "p2=stats.poisson(4).pmf(x)\n",
        "p3=stats.poisson(11).pmf(x)"
      ],
      "execution_count": 0,
      "outputs": []
    },
    {
      "cell_type": "code",
      "metadata": {
        "id": "Gznkd1eD-W5X",
        "colab_type": "code",
        "outputId": "3b941330-cc51-4e81-e1e1-da1d7cb39e0c",
        "colab": {
          "base_uri": "https://localhost:8080/",
          "height": 282
        }
      },
      "source": [
        "plt.plot(x,p1,marker='o')\n",
        "plt.plot(x,p2,marker='o')\n",
        "plt.plot(x,p3,marker='o')"
      ],
      "execution_count": 0,
      "outputs": [
        {
          "output_type": "execute_result",
          "data": {
            "text/plain": [
              "[<matplotlib.lines.Line2D at 0x7fd9b5948860>]"
            ]
          },
          "metadata": {
            "tags": []
          },
          "execution_count": 83
        },
        {
          "output_type": "display_data",
          "data": {
            "image/png": "[encoded data removed]",
            "text/plain": [
              "<Figure size 432x288 with 1 Axes>"
            ]
          },
          "metadata": {
            "tags": []
          }
        }
      ]
    },
    {
      "cell_type": "code",
      "metadata": {
        "id": "0KDeci7q-ZoW",
        "colab_type": "code",
        "outputId": "16f60b9e-d362-43ec-8780-c07938168577",
        "colab": {
          "base_uri": "https://localhost:8080/",
          "height": 34
        }
      },
      "source": [
        "stats.norm().cdf(2)-stats.norm().cdf(-2)"
      ],
      "execution_count": 0,
      "outputs": [
        {
          "output_type": "execute_result",
          "data": {
            "text/plain": [
              "0.9544997361036416"
            ]
          },
          "metadata": {
            "tags": []
          },
          "execution_count": 84
        }
      ]
    },
    {
      "cell_type": "code",
      "metadata": {
        "id": "TEYh5wG-Dwdy",
        "colab_type": "code",
        "colab": {}
      },
      "source": [
        "x=np.linspace(0,5,100)\n",
        "p1=stats.uniform.pdf(x)"
      ],
      "execution_count": 0,
      "outputs": []
    },
    {
      "cell_type": "code",
      "metadata": {
        "id": "6Q59LYq8FO4R",
        "colab_type": "code",
        "outputId": "6930c95e-7fb5-41c2-cb46-6068f20c2f4d",
        "colab": {
          "base_uri": "https://localhost:8080/",
          "height": 282
        }
      },
      "source": [
        "plt.plot(x,p1)"
      ],
      "execution_count": 0,
      "outputs": [
        {
          "output_type": "execute_result",
          "data": {
            "text/plain": [
              "[<matplotlib.lines.Line2D at 0x7fd9b612ac50>]"
            ]
          },
          "metadata": {
            "tags": []
          },
          "execution_count": 93
        },
        {
          "output_type": "display_data",
          "data": {
            "image/png": "[encoded data removed]",
            "text/plain": [
              "<Figure size 432x288 with 1 Axes>"
            ]
          },
          "metadata": {
            "tags": []
          }
        }
      ]
    },
    {
      "cell_type": "code",
      "metadata": {
        "id": "xwBZbjfgFvl0",
        "colab_type": "code",
        "colab": {}
      },
      "source": [
        "x=np.linspace(0,20,100)\n",
        "y1=stats.norm(9,1).pdf(x)\n",
        "y2=stats.norm(9,4).pdf(x)"
      ],
      "execution_count": 0,
      "outputs": []
    },
    {
      "cell_type": "code",
      "metadata": {
        "id": "g646vv2kHLDe",
        "colab_type": "code",
        "outputId": "8cdeff5b-afd5-4760-d410-8c8e459cd028",
        "colab": {
          "base_uri": "https://localhost:8080/",
          "height": 282
        }
      },
      "source": [
        "plt.plot(x,y1)\n",
        "plt.plot(x,y2)"
      ],
      "execution_count": 0,
      "outputs": [
        {
          "output_type": "execute_result",
          "data": {
            "text/plain": [
              "[<matplotlib.lines.Line2D at 0x7fd9c0637358>]"
            ]
          },
          "metadata": {
            "tags": []
          },
          "execution_count": 100
        },
        {
          "output_type": "display_data",
          "data": {
            "image/png": "[encoded data removed]",
            "text/plain": [
              "<Figure size 432x288 with 1 Axes>"
            ]
          },
          "metadata": {
            "tags": []
          }
        }
      ]
    },
    {
      "cell_type": "code",
      "metadata": {
        "id": "nvOopBKcHa9W",
        "colab_type": "code",
        "outputId": "5db79769-f2d5-4dc2-8b68-45a74dd4b1a1",
        "colab": {
          "base_uri": "https://localhost:8080/",
          "height": 202
        }
      },
      "source": [
        "m1=stats.norm(0,1)\n",
        "o=m1.rvs(100)\n",
        "plt.hist(o)\n"
      ],
      "execution_count": 2,
      "outputs": [
        {
          "output_type": "error",
          "ename": "NameError",
          "evalue": "ignored",
          "traceback": [
            "\u001b[0;31m---------------------------------------------------------------------------\u001b[0m",
            "\u001b[0;31mNameError\u001b[0m                                 Traceback (most recent call last)",
            "\u001b[0;32m<ipython-input-2-604c77d01159>\u001b[0m in \u001b[0;36m<module>\u001b[0;34m()\u001b[0m\n\u001b[0;32m----> 1\u001b[0;31m \u001b[0mm1\u001b[0m\u001b[0;34m=\u001b[0m\u001b[0mstats\u001b[0m\u001b[0;34m.\u001b[0m\u001b[0mnorm\u001b[0m\u001b[0;34m(\u001b[0m\u001b[0;36m0\u001b[0m\u001b[0;34m,\u001b[0m\u001b[0;36m1\u001b[0m\u001b[0;34m)\u001b[0m\u001b[0;34m\u001b[0m\u001b[0;34m\u001b[0m\u001b[0m\n\u001b[0m\u001b[1;32m      2\u001b[0m \u001b[0mo\u001b[0m\u001b[0;34m=\u001b[0m\u001b[0mm1\u001b[0m\u001b[0;34m.\u001b[0m\u001b[0mrvs\u001b[0m\u001b[0;34m(\u001b[0m\u001b[0;36m100\u001b[0m\u001b[0;34m)\u001b[0m\u001b[0;34m\u001b[0m\u001b[0;34m\u001b[0m\u001b[0m\n\u001b[1;32m      3\u001b[0m \u001b[0mplt\u001b[0m\u001b[0;34m.\u001b[0m\u001b[0mhist\u001b[0m\u001b[0;34m(\u001b[0m\u001b[0mo\u001b[0m\u001b[0;34m)\u001b[0m\u001b[0;34m\u001b[0m\u001b[0;34m\u001b[0m\u001b[0m\n",
            "\u001b[0;31mNameError\u001b[0m: name 'stats' is not defined"
          ]
        }
      ]
    },
    {
      "cell_type": "code",
      "metadata": {
        "id": "nV8rs3i_KHll",
        "colab_type": "code",
        "colab": {}
      },
      "source": [
        "#calculate\n",
        "min median mode iqr skew\n",
        "kurt geo mean harmonic mean"
      ],
      "execution_count": 0,
      "outputs": []
    },
    {
      "cell_type": "code",
      "metadata": {
        "id": "O3RvWhlXLm3q",
        "colab_type": "code",
        "outputId": "9f721c86-91cf-44d8-9600-42fa7e099d63",
        "colab": {
          "base_uri": "https://localhost:8080/",
          "height": 34
        }
      },
      "source": [
        "from scipy import stats\n",
        "import numpy as np\n",
        "x1 = np.array([1,2,3,4,5,6,7,8,9])\n",
        "print (x1.max(),x1.min(),x1.mean(),x1.var())\n"
      ],
      "execution_count": 0,
      "outputs": [
        {
          "output_type": "stream",
          "text": [
            "9 1 5.0 6.666666666666667\n"
          ],
          "name": "stdout"
        }
      ]
    },
    {
      "cell_type": "code",
      "metadata": {
        "id": "Q0Mo-AtgMsaa",
        "colab_type": "code",
        "colab": {}
      },
      "source": [
        "m1=stats.norm(9).rvs(size=1000)"
      ],
      "execution_count": 0,
      "outputs": []
    },
    {
      "cell_type": "code",
      "metadata": {
        "id": "5qYSzQ_sNOzn",
        "colab_type": "code",
        "outputId": "8c47bc2b-4111-4373-f79a-5c3ce46424b2",
        "colab": {
          "base_uri": "https://localhost:8080/",
          "height": 34
        }
      },
      "source": [
        "m1.mean()"
      ],
      "execution_count": 0,
      "outputs": [
        {
          "output_type": "execute_result",
          "data": {
            "text/plain": [
              "9.010224510144944"
            ]
          },
          "metadata": {
            "tags": []
          },
          "execution_count": 121
        }
      ]
    },
    {
      "cell_type": "code",
      "metadata": {
        "id": "quMOKPfWNc1E",
        "colab_type": "code",
        "colab": {}
      },
      "source": [
        "Mode=stats.mode(m1)"
      ],
      "execution_count": 0,
      "outputs": []
    },
    {
      "cell_type": "code",
      "metadata": {
        "id": "XaI1uzoIOy08",
        "colab_type": "code",
        "outputId": "1f0fd101-4bdb-4007-9f36-c40f968b5a14",
        "colab": {
          "base_uri": "https://localhost:8080/",
          "height": 34
        }
      },
      "source": [
        "Mode"
      ],
      "execution_count": 0,
      "outputs": [
        {
          "output_type": "execute_result",
          "data": {
            "text/plain": [
              "ModeResult(mode=array([5.65271131]), count=array([1]))"
            ]
          },
          "metadata": {
            "tags": []
          },
          "execution_count": 125
        }
      ]
    },
    {
      "cell_type": "code",
      "metadata": {
        "id": "gYrSICiOO0Ej",
        "colab_type": "code",
        "colab": {}
      },
      "source": [
        "Iqr=stats.iqr(m1)"
      ],
      "execution_count": 0,
      "outputs": []
    },
    {
      "cell_type": "code",
      "metadata": {
        "id": "Y66_An1SPUek",
        "colab_type": "code",
        "outputId": "a9c1618d-a217-4b15-ebba-2a7d6e41fa87",
        "colab": {
          "base_uri": "https://localhost:8080/",
          "height": 34
        }
      },
      "source": [
        "Iqr"
      ],
      "execution_count": 0,
      "outputs": [
        {
          "output_type": "execute_result",
          "data": {
            "text/plain": [
              "1.2938586091125348"
            ]
          },
          "metadata": {
            "tags": []
          },
          "execution_count": 127
        }
      ]
    },
    {
      "cell_type": "code",
      "metadata": {
        "id": "AXavDh5APWGM",
        "colab_type": "code",
        "colab": {}
      },
      "source": [
        "Skew=stats.skew(m1)"
      ],
      "execution_count": 0,
      "outputs": []
    },
    {
      "cell_type": "code",
      "metadata": {
        "id": "5vM3nx6APbRh",
        "colab_type": "code",
        "outputId": "532c8ed2-681d-42aa-8156-b934978b6515",
        "colab": {
          "base_uri": "https://localhost:8080/",
          "height": 34
        }
      },
      "source": [
        "Skew"
      ],
      "execution_count": 0,
      "outputs": [
        {
          "output_type": "execute_result",
          "data": {
            "text/plain": [
              "-0.00019442523606891954"
            ]
          },
          "metadata": {
            "tags": []
          },
          "execution_count": 129
        }
      ]
    },
    {
      "cell_type": "code",
      "metadata": {
        "id": "HZSaDhVEPcjd",
        "colab_type": "code",
        "colab": {}
      },
      "source": [
        "Kurtoisses=stats.kurtosis(m1)"
      ],
      "execution_count": 0,
      "outputs": []
    },
    {
      "cell_type": "code",
      "metadata": {
        "id": "Xq3JDMWDPkYb",
        "colab_type": "code",
        "outputId": "2397b6ba-eb8d-4669-c120-4d3d5cecb6c0",
        "colab": {
          "base_uri": "https://localhost:8080/",
          "height": 34
        }
      },
      "source": [
        "Kurtoisses"
      ],
      "execution_count": 0,
      "outputs": [
        {
          "output_type": "execute_result",
          "data": {
            "text/plain": [
              "0.1879501310844489"
            ]
          },
          "metadata": {
            "tags": []
          },
          "execution_count": 131
        }
      ]
    },
    {
      "cell_type": "code",
      "metadata": {
        "id": "v7NE_y_wPl-6",
        "colab_type": "code",
        "outputId": "fc2750ce-d1de-4c1f-c5b3-abf5291b1948",
        "colab": {
          "base_uri": "https://localhost:8080/",
          "height": 34
        }
      },
      "source": [
        "geometric_mean=stats.gmean(m1)\n",
        "geometric_mean"
      ],
      "execution_count": 0,
      "outputs": [
        {
          "output_type": "execute_result",
          "data": {
            "text/plain": [
              "8.955196869330274"
            ]
          },
          "metadata": {
            "tags": []
          },
          "execution_count": 132
        }
      ]
    },
    {
      "cell_type": "code",
      "metadata": {
        "id": "wywSdDuZP0fb",
        "colab_type": "code",
        "colab": {}
      },
      "source": [
        "harmonic_mean=stats.hmean(m1)"
      ],
      "execution_count": 0,
      "outputs": []
    },
    {
      "cell_type": "code",
      "metadata": {
        "id": "YmfQTkt9P8zb",
        "colab_type": "code",
        "outputId": "5a0b35d2-c860-477f-93f3-9ce7e774d6af",
        "colab": {
          "base_uri": "https://localhost:8080/",
          "height": 34
        }
      },
      "source": [
        "harmonic_mean"
      ],
      "execution_count": 0,
      "outputs": [
        {
          "output_type": "execute_result",
          "data": {
            "text/plain": [
              "8.898941640630428"
            ]
          },
          "metadata": {
            "tags": []
          },
          "execution_count": 134
        }
      ]
    },
    {
      "cell_type": "code",
      "metadata": {
        "id": "64syr3_5P_Pc",
        "colab_type": "code",
        "colab": {}
      },
      "source": [
        "import seaborn as sns\n",
        "x=range(20)\n",
        "p1=stats.binom(n=20,p=.25)\n",
        "p2=stats.binom(n=20,p=.5)\n",
        "p3=stats.binom(n=20,p=.75)\n",
        "l=p1.pmf(x)\n",
        "l2=p2.pmf(x)\n",
        "l3=p3.pmf(x)"
      ],
      "execution_count": 0,
      "outputs": []
    },
    {
      "cell_type": "code",
      "metadata": {
        "id": "ea4K9FcEW2G4",
        "colab_type": "code",
        "outputId": "97cb58ff-306e-4f42-8291-684cccd3ed7f",
        "colab": {
          "base_uri": "https://localhost:8080/",
          "height": 282
        }
      },
      "source": [
        "plt.plot(x,l,marker='o')\n",
        "plt.plot(x,l2,marker='o')\n",
        "plt.plot(x,l3,marker='o')"
      ],
      "execution_count": 0,
      "outputs": [
        {
          "output_type": "execute_result",
          "data": {
            "text/plain": [
              "[<matplotlib.lines.Line2D at 0x7fd9b44252b0>]"
            ]
          },
          "metadata": {
            "tags": []
          },
          "execution_count": 144
        },
        {
          "output_type": "display_data",
          "data": {
            "image/png": "[encoded data removed]",
            "text/plain": [
              "<Figure size 432x288 with 1 Axes>"
            ]
          },
          "metadata": {
            "tags": []
          }
        }
      ]
    },
    {
      "cell_type": "code",
      "metadata": {
        "id": "6W5KfzZKW5FK",
        "colab_type": "code",
        "colab": {}
      },
      "source": [
        ""
      ],
      "execution_count": 0,
      "outputs": []
    }
  ]
}